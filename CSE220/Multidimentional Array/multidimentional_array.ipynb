{
  "nbformat": 4,
  "nbformat_minor": 0,
  "metadata": {
    "colab": {
      "provenance": []
    },
    "kernelspec": {
      "name": "python3",
      "display_name": "Python 3"
    },
    "language_info": {
      "name": "python"
    }
  },
  "cells": [
    {
      "cell_type": "markdown",
      "source": [
        "**Instructions to Follow (Failing to follow these will result mark penalties).**\n",
        "\n",
        "\n",
        "1.   You can not use any built-in function except len()\n",
        "2.   You can use the shape tuple of numpy arrays\n",
        "2.   You can not use any other python collections except array (e.g: tuple, dictionaries etc.).\n",
        "3. We will initialize a new array using numpy library. We have to mention the fixed size during initialization. There might be two approach.\n",
        "\n",
        "  i. arr = np.zeros((10), dtype = int) #Initializing an array length 10 with values 0\n",
        "\n",
        "  ii. arr = np.array([10, 20, 30, 40]) #Initializing an array length 4 with the values.\n",
        "4. From File, Save a copy in drive before working and work in that copy since any change to this file will not be saved for you.\n",
        "\n",
        "\n",
        "\n",
        "\n"
      ],
      "metadata": {
        "id": "l7Neg32qlqKi"
      }
    },
    {
      "cell_type": "code",
      "execution_count": null,
      "metadata": {
        "id": "1fdSwhC1lman",
        "colab": {
          "base_uri": "https://localhost:8080/"
        },
        "outputId": "0770b28a-0b8f-45de-9c47-58d4adfbea48"
      },
      "outputs": [
        {
          "output_type": "stream",
          "name": "stdout",
          "text": [
            "Collecting fhm-unittest\n",
            "  Downloading fhm_unittest-1.0.1-py3-none-any.whl (2.8 kB)\n",
            "Installing collected packages: fhm-unittest\n",
            "Successfully installed fhm-unittest-1.0.1\n",
            "Collecting fuzzywuzzy\n",
            "  Downloading fuzzywuzzy-0.18.0-py2.py3-none-any.whl (18 kB)\n",
            "Installing collected packages: fuzzywuzzy\n",
            "Successfully installed fuzzywuzzy-0.18.0\n"
          ]
        },
        {
          "output_type": "stream",
          "name": "stderr",
          "text": [
            "/usr/local/lib/python3.10/dist-packages/fuzzywuzzy/fuzz.py:11: UserWarning: Using slow pure-python SequenceMatcher. Install python-Levenshtein to remove this warning\n",
            "  warnings.warn('Using slow pure-python SequenceMatcher. Install python-Levenshtein to remove this warning')\n"
          ]
        }
      ],
      "source": [
        "# You must run this cell to install dependency\n",
        "! pip3 install fhm-unittest\n",
        "! pip3 install fuzzywuzzy\n",
        "import fhm_unittest as unittest\n",
        "import numpy as np"
      ]
    },
    {
      "cell_type": "code",
      "source": [
        "#You must run this cell to print matrix and for the driver code to work\n",
        "def print_matrix(m):\n",
        "  row,col = m.shape\n",
        "  for i in range(row):\n",
        "    c = 1\n",
        "    print('|', end='')\n",
        "    for j in range(col):\n",
        "      c += 1\n",
        "      if(len(str(m[i][j])) == 1):\n",
        "        print(' ',m[i][j], end = '  |')\n",
        "        c += 6\n",
        "      else:\n",
        "        print(' ',m[i][j], end = ' |')\n",
        "        c += 6\n",
        "    print()\n",
        "    print('-'*(c-col))\n",
        "\n"
      ],
      "metadata": {
        "id": "s1d8VpMcmAYI"
      },
      "execution_count": null,
      "outputs": []
    },
    {
      "cell_type": "markdown",
      "source": [
        "Task 1: Zigzag Walk"
      ],
      "metadata": {
        "id": "Q2LBZRlumbFr"
      }
    },
    {
      "cell_type": "code",
      "source": [
        "def walk_zigzag(floor):\n",
        "  #To Do\n",
        "  for i in range(len(floor)):\n",
        "    if i%2==0:\n",
        "      for j in range(0,len(floor[i]),2):\n",
        "        print(floor[i][j],end=' ')\n",
        "    else:\n",
        "      for j in range(len(floor[i])-1,-1,-2):\n",
        "        print(floor[i][j],end=' ')\n",
        "    print()\n",
        "\n",
        "floor = np.array([[ '3W' , '8B' , '4W' , '6B' , '1W' , '5B'],\n",
        "                  ['3B' , '2W' , '1B' , '6W' , '3B' , '8W'],\n",
        "                  ['9W' , '0B' , '7W' , '5B' , '3W' , '8B'],\n",
        "                  ['2B' , '1W' , '3B' , '6W' , '0B' , '4W'],\n",
        "                  ['1W' , '4B' , '2W' , '8B' , '6W' , '6B']]\n",
        "                )\n",
        "print_matrix(floor)\n",
        "print('Walking Sequence:')\n",
        "walk_zigzag(floor)\n",
        "#This should print\n",
        "# 3W 4W 1W\n",
        "# 8W 6W 2W\n",
        "# 9W 7W 3W\n",
        "# 4W 6W 1W\n",
        "# 1W 2W 6W\n"
      ],
      "metadata": {
        "id": "_F8YAVawmMwC",
        "colab": {
          "base_uri": "https://localhost:8080/"
        },
        "outputId": "84313a47-6bba-4721-81cb-59b945f3f962"
      },
      "execution_count": null,
      "outputs": [
        {
          "output_type": "stream",
          "name": "stdout",
          "text": [
            "|  3W |  8B |  4W |  6B |  1W |  5B |\n",
            "-------------------------------------\n",
            "|  3B |  2W |  1B |  6W |  3B |  8W |\n",
            "-------------------------------------\n",
            "|  9W |  0B |  7W |  5B |  3W |  8B |\n",
            "-------------------------------------\n",
            "|  2B |  1W |  3B |  6W |  0B |  4W |\n",
            "-------------------------------------\n",
            "|  1W |  4B |  2W |  8B |  6W |  6B |\n",
            "-------------------------------------\n",
            "Walking Sequence:\n",
            "3W 4W 1W \n",
            "8W 6W 2W \n",
            "9W 7W 3W \n",
            "4W 6W 1W \n",
            "1W 2W 6W \n"
          ]
        }
      ]
    },
    {
      "cell_type": "markdown",
      "source": [
        "Task 2: Landscape Screen"
      ],
      "metadata": {
        "id": "XP-y7UlNm3BY"
      }
    },
    {
      "cell_type": "code",
      "source": [
        "def landscape(m):\n",
        "  #To Do\n",
        "  row = len(m)\n",
        "  col = len(m[0])\n",
        "  myarr = np.zeros((col,row),dtype=int)\n",
        "  for i in range(len(m)):\n",
        "    for j in range(len(m[i])):\n",
        "      myarr[j][i] = m[i][j]\n",
        "  return myarr\n",
        "\n",
        "m = np.random.randint(15,size=(4,3)) #This creates an np array of 4 x 3 where the values are random numbers from [0,15) range\n",
        "print_matrix(m)\n",
        "print()\n",
        "print_matrix(landscape(m))"
      ],
      "metadata": {
        "id": "3LQXKBz3mUkj",
        "colab": {
          "base_uri": "https://localhost:8080/"
        },
        "outputId": "8833b62d-df2e-427b-90b1-23620560d7e8"
      },
      "execution_count": null,
      "outputs": [
        {
          "output_type": "stream",
          "name": "stdout",
          "text": [
            "|  9  |  12 |  9  |\n",
            "-------------------\n",
            "|  1  |  5  |  13 |\n",
            "-------------------\n",
            "|  14 |  0  |  12 |\n",
            "-------------------\n",
            "|  8  |  2  |  7  |\n",
            "-------------------\n",
            "\n",
            "|  9  |  1  |  14 |  8  |\n",
            "-------------------------\n",
            "|  12 |  5  |  0  |  2  |\n",
            "-------------------------\n",
            "|  9  |  13 |  12 |  7  |\n",
            "-------------------------\n"
          ]
        }
      ]
    },
    {
      "cell_type": "markdown",
      "source": [
        "Task 3: Seating Arrangement"
      ],
      "metadata": {
        "id": "piw0POuVna4_"
      }
    },
    {
      "cell_type": "code",
      "source": [
        "import numpy as np\n",
        "def arrangement(m, diff):\n",
        "  #To Do\n",
        "  for i in range(len(m)):\n",
        "    for j in range(len(m[i])):\n",
        "      if i!=j and abs(m[i][j]-m[j][i])!=diff:\n",
        "          return False\n",
        "  return True\n",
        "\n",
        "m = np.array([[7,13,9,14],[12,8,15,11],[10,17,3,2],[15,10,1,4]])\n",
        "print_matrix(m)\n",
        "print()\n",
        "returned_value = arrangement(m,1)\n",
        "print(returned_value)#This should print False\n",
        "unittest.output_test(returned_value, False)\n",
        "\n",
        "m = np.array([[8,15,7,12],[13,2,18,11],[9,20,5,2],[14,9,0,10]])\n",
        "print_matrix(m)\n",
        "print()\n",
        "returned_value = arrangement(m,2)\n",
        "print(returned_value)#This should print True\n",
        "unittest.output_test(returned_value, True)"
      ],
      "metadata": {
        "id": "H4EDQCTfnes7",
        "colab": {
          "base_uri": "https://localhost:8080/"
        },
        "outputId": "f123e2c0-6373-4cea-dc19-316e06f4981d"
      },
      "execution_count": null,
      "outputs": [
        {
          "output_type": "stream",
          "name": "stdout",
          "text": [
            "|  7  |  13 |  9  |  14 |\n",
            "-------------------------\n",
            "|  12 |  8  |  15 |  11 |\n",
            "-------------------------\n",
            "|  10 |  17 |  3  |  2  |\n",
            "-------------------------\n",
            "|  15 |  10 |  1  |  4  |\n",
            "-------------------------\n",
            "\n",
            "False\n",
            "Accepted\n",
            "|  8  |  15 |  7  |  12 |\n",
            "-------------------------\n",
            "|  13 |  2  |  18 |  11 |\n",
            "-------------------------\n",
            "|  9  |  20 |  5  |  2  |\n",
            "-------------------------\n",
            "|  14 |  9  |  0  |  10 |\n",
            "-------------------------\n",
            "\n",
            "True\n",
            "Accepted\n"
          ]
        }
      ]
    },
    {
      "cell_type": "markdown",
      "source": [
        "Task 4: Chess Piece"
      ],
      "metadata": {
        "id": "dULlGfSWoa_-"
      }
    },
    {
      "cell_type": "code",
      "source": [
        "def show_knight_move(knight):\n",
        "  #To Do\n",
        "  row,col = knight\n",
        "  myar = np.zeros((8,8),dtype=int)\n",
        "  myar[row][col] = 33\n",
        "\n",
        "  for i in range(len(myar)):\n",
        "    for j in range(len(myar[i])):\n",
        "\n",
        "      if i == (row+2) and j == (col-1):\n",
        "        myar[i][j] = 3\n",
        "      elif i == (row+2) and j == (col+1):\n",
        "        myar[i][j] = 3\n",
        "      elif i == (row-2) and j == (col+1):\n",
        "        myar[i][j] = 3\n",
        "      elif i == (row-2) and j == (col-1):\n",
        "        myar[i][j] = 3\n",
        "\n",
        "      elif i == (row+1) and j == (col-2):\n",
        "        myar[i][j] = 3\n",
        "      elif i == (row-1) and j == (col+2):\n",
        "        myar[i][j] = 3\n",
        "      elif i == (row-1) and j == (col-2):\n",
        "        myar[i][j] = 3\n",
        "      elif i == (row+1) and j == (col+2):\n",
        "        myar[i][j] = 3\n",
        "\n",
        "\n",
        "  return myar\n",
        "\n",
        "\n",
        "knight = (3,4)\n",
        "chess_board = show_knight_move(knight)\n",
        "print_matrix(chess_board)"
      ],
      "metadata": {
        "id": "CXu8BAjWn6IN",
        "colab": {
          "base_uri": "https://localhost:8080/"
        },
        "outputId": "6c3643f1-0b57-455b-f8fb-e33f616e9be4"
      },
      "execution_count": null,
      "outputs": [
        {
          "output_type": "stream",
          "name": "stdout",
          "text": [
            "|  0  |  0  |  0  |  0  |  0  |  0  |  0  |  0  |\n",
            "-------------------------------------------------\n",
            "|  0  |  0  |  0  |  3  |  0  |  3  |  0  |  0  |\n",
            "-------------------------------------------------\n",
            "|  0  |  0  |  3  |  0  |  0  |  0  |  3  |  0  |\n",
            "-------------------------------------------------\n",
            "|  0  |  0  |  0  |  0  |  33 |  0  |  0  |  0  |\n",
            "-------------------------------------------------\n",
            "|  0  |  0  |  3  |  0  |  0  |  0  |  3  |  0  |\n",
            "-------------------------------------------------\n",
            "|  0  |  0  |  0  |  3  |  0  |  3  |  0  |  0  |\n",
            "-------------------------------------------------\n",
            "|  0  |  0  |  0  |  0  |  0  |  0  |  0  |  0  |\n",
            "-------------------------------------------------\n",
            "|  0  |  0  |  0  |  0  |  0  |  0  |  0  |  0  |\n",
            "-------------------------------------------------\n"
          ]
        }
      ]
    },
    {
      "cell_type": "markdown",
      "source": [
        "Bonus Task (UNGRADED)"
      ],
      "metadata": {
        "id": "Dox4AStYo8Xk"
      }
    },
    {
      "cell_type": "code",
      "source": [
        "def topple(knight,rook):\n",
        "  #To Do\n",
        "  row,col = knight\n",
        "  arow,acol = rook\n",
        "  myar = np.zeros((8,8),dtype=int)\n",
        "  myar[row][col] = 33\n",
        "  myar[arow][acol] = 5\n",
        "\n",
        "  for i in range(len(myar)):\n",
        "    for j in range(len(myar[i])):\n",
        "\n",
        "      if i == (row+2) and j == (col-1):\n",
        "        myar[i][j] = 3\n",
        "      elif i == (row+2) and j == (col+1):\n",
        "        myar[i][j] = 3\n",
        "      elif i == (row-2) and j == (col+1):\n",
        "        myar[i][j] = 3\n",
        "      elif i == (row-2) and j == (col-1):\n",
        "        myar[i][j] = 3\n",
        "      elif i == (row+1) and j == (col-2):\n",
        "        myar[i][j] = 3\n",
        "      elif i == (row-1) and j == (col+2):\n",
        "        myar[i][j] = 3\n",
        "      elif i == (row-1) and j == (col-2):\n",
        "        myar[i][j] = 3\n",
        "      elif i == (row+1) and j == (col+2):\n",
        "        myar[i][j] = 3\n",
        "\n",
        "  for i in range(len(myar)):\n",
        "    for j in range(len(myar[i])):\n",
        "      if myar[i][j]==3 and i==arow and j==acol:\n",
        "        return myar,\"King can kill\"\n",
        "\n",
        "  if row==arow or col==acol:\n",
        "    return myar,\"Rook can kill\"\n",
        "\n",
        "  return myar,\"Cannot Kill\"\n",
        "\n",
        "\n",
        "knight = (5,6)\n",
        "rook = (5,1)\n",
        "chess_board, ans = topple(knight,rook)\n",
        "print_matrix(chess_board)\n",
        "print(ans) #This should print Rook can kill"
      ],
      "metadata": {
        "id": "AvzKs7wnoraw",
        "colab": {
          "base_uri": "https://localhost:8080/"
        },
        "outputId": "c0edcac2-5e39-4b4c-861d-64ac720cea98"
      },
      "execution_count": null,
      "outputs": [
        {
          "output_type": "stream",
          "name": "stdout",
          "text": [
            "|  0  |  0  |  0  |  0  |  0  |  0  |  0  |  0  |\n",
            "-------------------------------------------------\n",
            "|  0  |  0  |  0  |  0  |  0  |  0  |  0  |  0  |\n",
            "-------------------------------------------------\n",
            "|  0  |  0  |  0  |  0  |  0  |  0  |  0  |  0  |\n",
            "-------------------------------------------------\n",
            "|  0  |  0  |  0  |  0  |  0  |  3  |  0  |  3  |\n",
            "-------------------------------------------------\n",
            "|  0  |  0  |  0  |  0  |  3  |  0  |  0  |  0  |\n",
            "-------------------------------------------------\n",
            "|  0  |  5  |  0  |  0  |  0  |  0  |  33 |  0  |\n",
            "-------------------------------------------------\n",
            "|  0  |  0  |  0  |  0  |  3  |  0  |  0  |  0  |\n",
            "-------------------------------------------------\n",
            "|  0  |  0  |  0  |  0  |  0  |  3  |  0  |  3  |\n",
            "-------------------------------------------------\n",
            "Rook can kill\n"
          ]
        }
      ]
    }
  ]
}
