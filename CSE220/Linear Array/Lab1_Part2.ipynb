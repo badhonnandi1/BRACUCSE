{
  "nbformat": 4,
  "nbformat_minor": 0,
  "metadata": {
    "colab": {
      "provenance": []
    },
    "kernelspec": {
      "name": "python3",
      "display_name": "Python 3"
    },
    "language_info": {
      "name": "python"
    }
  },
  "cells": [
    {
      "cell_type": "code",
      "execution_count": 6,
      "metadata": {
        "id": "H2g7PAbaM0FH"
      },
      "outputs": [],
      "source": [
        "import numpy as np\n",
        "marray = np.array([10, 8, 13, 9, 14, 25, -5, 20, 7, 7, 4])"
      ]
    },
    {
      "cell_type": "code",
      "source": [
        "def mean_value(myar):\n",
        "  sum = 0\n",
        "  for i in range(len(myar)):\n",
        "    sum += myar[i]\n",
        "  mean = sum/len(myar)\n",
        "\n",
        "  return mean\n",
        "\n",
        "def standard_d(myar):\n",
        "  another_sum = 0\n",
        "  for i in range(len(myar)):\n",
        "    another_sum += (myar[i]-mean)**2\n",
        "  result = (another_sum/(len(myar)-1))**0.5\n",
        "\n",
        "  return result\n",
        "\n",
        "def away_arr(myar):\n",
        "  range_lower = (standard_deviation*1.5)-mean\n",
        "  range_upper = (standard_deviation*1.5)+mean\n",
        "  count = 0\n",
        "  for i in range(len(myar)):\n",
        "    if myar[i]<range_lower or range_upper<myar[i]:\n",
        "      count += 1\n",
        "\n",
        "  final_array = np.zeros(count,dtype=int)\n",
        "  x = 0\n",
        "  for i in range(len(myar)):\n",
        "    if myar[i]<range_lower or range_upper<myar[i]:\n",
        "      final_array[x] = myar[i]\n",
        "      x+=1\n",
        "\n",
        "  return final_array"
      ],
      "metadata": {
        "id": "WIESpBN5NLUe"
      },
      "execution_count": 7,
      "outputs": []
    },
    {
      "cell_type": "code",
      "source": [
        "mean = (mean_value(marray))\n",
        "print(f\"The mean of the numbers is: {mean}\")\n",
        "\n",
        "standard_deviation = standard_d(marray)\n",
        "print(f\"The standard deviation is: {standard_deviation:.2f}\")\n",
        "\n",
        "new_ar = away_arr(marray)\n",
        "print(new_ar)"
      ],
      "metadata": {
        "colab": {
          "base_uri": "https://localhost:8080/"
        },
        "id": "fNcquiHDH5Wz",
        "outputId": "3678085c-6ca9-48c0-db26-7e375305e0de"
      },
      "execution_count": 8,
      "outputs": [
        {
          "output_type": "stream",
          "name": "stdout",
          "text": [
            "The mean of the numbers is: 10.181818181818182\n",
            "The standard deviation is: 7.96\n",
            "[25 -5]\n"
          ]
        }
      ]
    }
  ]
}