{
  "nbformat": 4,
  "nbformat_minor": 0,
  "metadata": {
    "colab": {
      "provenance": []
    },
    "kernelspec": {
      "name": "python3",
      "display_name": "Python 3"
    },
    "language_info": {
      "name": "python"
    }
  },
  "cells": [
    {
      "cell_type": "code",
      "execution_count": 1,
      "metadata": {
        "id": "H2g7PAbaM0FH"
      },
      "outputs": [],
      "source": [
        "import numpy as np"
      ]
    },
    {
      "cell_type": "code",
      "source": [
        "myar = np.array([10, 8, 13, 9, 14, 25, -5, 20, 7, 7, 4])\n",
        "sum = 0\n",
        "for i in range(len(myar)):\n",
        "  sum += myar[i]\n",
        "\n",
        "mean = sum/len(myar)\n",
        "\n",
        "print(myar)\n",
        "print(f\"The mean of the numbers is: {sum/len(myar)}\")\n",
        "another_sum = 0\n",
        "for i in range(len(myar)):\n",
        "  another_sum += (myar[i]-mean)**2\n",
        "\n",
        "standard_deviation = (another_sum/(len(myar)-1))**0.5\n",
        "print(f\"The standard deviation is: {standard_deviation:.2f}\")\n",
        "\n",
        "range_lower = (standard_deviation*1.5)-mean\n",
        "range_upper = (standard_deviation*1.5)+mean\n",
        "count = 0\n",
        "for i in range(len(myar)):\n",
        "  if myar[i]<range_lower or range_upper<myar[i]:\n",
        "    count += 1\n",
        "\n",
        "final_array = np.zeros(count,dtype=int)\n",
        "x = 0\n",
        "for i in range(len(myar)):\n",
        "  if myar[i]<range_lower or range_upper<myar[i]:\n",
        "    final_array[x] = myar[i]\n",
        "    x+=1\n",
        "\n",
        "print(final_array)"
      ],
      "metadata": {
        "colab": {
          "base_uri": "https://localhost:8080/"
        },
        "id": "WIESpBN5NLUe",
        "outputId": "8654e134-653c-49d6-e831-19db39549f5a"
      },
      "execution_count": 20,
      "outputs": [
        {
          "output_type": "stream",
          "name": "stdout",
          "text": [
            "[10  8 13  9 14 25 -5 20  7  7  4]\n",
            "The mean of the numbers is: 10.181818181818182\n",
            "The standard deviation is: 7.96\n",
            "[25 -5]\n"
          ]
        }
      ]
    }
  ]
}