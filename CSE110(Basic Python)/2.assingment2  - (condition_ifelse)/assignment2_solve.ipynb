{
 "cells": [
  {
   "cell_type": "code",
   "execution_count": 1,
   "id": "f870df1c",
   "metadata": {},
   "outputs": [
    {
     "name": "stdout",
     "output_type": "stream",
     "text": [
      "4\n",
      "5\n",
      "Sum = 9\n",
      "Product = 20\n",
      "Difference = -1\n"
     ]
    }
   ],
   "source": [
    "#task1\n",
    "x = int(input())\n",
    "y = int(input())\n",
    "sum = x+y\n",
    "pro = x*y\n",
    "dif = x-y\n",
    "print('Sum =',sum)\n",
    "print('Product =',pro)\n",
    "print('Difference =',dif)"
   ]
  },
  {
   "cell_type": "code",
   "execution_count": 2,
   "id": "493e54de",
   "metadata": {},
   "outputs": [
    {
     "name": "stdout",
     "output_type": "stream",
     "text": [
      "4\n",
      "Area is 50.26548245743669\n",
      "Circumference is 25.132741228718345\n"
     ]
    }
   ],
   "source": [
    "#task2\n",
    "import math\n",
    "radious = int(input())\n",
    "area = math.pi * radious**2\n",
    "circum = 2 * math.pi * radious\n",
    "print('Area is',area)\n",
    "print('Circumference is',circum)"
   ]
  },
  {
   "cell_type": "code",
   "execution_count": 3,
   "id": "e78f6b85",
   "metadata": {},
   "outputs": [
    {
     "name": "stdout",
     "output_type": "stream",
     "text": [
      "7\n",
      "3\n",
      "First is greater\n"
     ]
    }
   ],
   "source": [
    "#task3\n",
    "num1 = int(input())\n",
    "num2 = int(input())\n",
    "if num1>num2:\n",
    "    print('First is greater')\n",
    "else:\n",
    "    print('Second is greater')"
   ]
  },
  {
   "cell_type": "code",
   "execution_count": 4,
   "id": "da08ba51",
   "metadata": {},
   "outputs": [
    {
     "name": "stdout",
     "output_type": "stream",
     "text": [
      "-40\n",
      "-4\n",
      "36\n"
     ]
    }
   ],
   "source": [
    "#task4\n",
    "num1 = int(input())\n",
    "num2 = int(input())\n",
    "if num1>num2:\n",
    "    print(num1-num2)\n",
    "else:\n",
    "    print(num2-num1)"
   ]
  },
  {
   "cell_type": "code",
   "execution_count": 5,
   "id": "4e6a8f88",
   "metadata": {},
   "outputs": [
    {
     "name": "stdout",
     "output_type": "stream",
     "text": [
      "7\n",
      "The number is even\n"
     ]
    }
   ],
   "source": [
    "#task5\n",
    "num = int(input())\n",
    "if num%2==0:\n",
    "    print(\"The number is even\")\n",
    "else:\n",
    "    print(\"The number is even\")"
   ]
  },
  {
   "cell_type": "code",
   "execution_count": 6,
   "id": "4f326c34",
   "metadata": {},
   "outputs": [
    {
     "name": "stdout",
     "output_type": "stream",
     "text": [
      "3\n",
      "Not a multiple of 2 OR 5\n"
     ]
    }
   ],
   "source": [
    "#task6\n",
    "num = int(input())\n",
    "if num%2==0 or num%5==0:\n",
    "    print(num)\n",
    "else:\n",
    "    print(\"Not a multiple of 2 OR 5\")"
   ]
  },
  {
   "cell_type": "code",
   "execution_count": 10,
   "id": "d5012e36",
   "metadata": {},
   "outputs": [
    {
     "name": "stdout",
     "output_type": "stream",
     "text": [
      "10\n",
      "Multiple of 2 and 5 both\n"
     ]
    }
   ],
   "source": [
    "#task7\n",
    "num = int(input())\n",
    "if num%2==0 and num%5==0:\n",
    "    print('Multiple of 2 and 5 both')\n",
    "elif num%2==0 or num%5==0:\n",
    "    print(num)\n",
    "else:\n",
    "    print('Not a multiple we want')"
   ]
  },
  {
   "cell_type": "code",
   "execution_count": 13,
   "id": "c3ba0fd8",
   "metadata": {},
   "outputs": [
    {
     "name": "stdout",
     "output_type": "stream",
     "text": [
      "15\n",
      "Not multiple of 2 and 5 both\n"
     ]
    }
   ],
   "source": [
    "#task8\n",
    "num = int(input())\n",
    "if num%2==0 and num%5==0:\n",
    "    print(num)\n",
    "elif num%2==0 or num%5==0:\n",
    "    print('Not multiple of 2 and 5 both')"
   ]
  },
  {
   "cell_type": "code",
   "execution_count": 18,
   "id": "41d26938",
   "metadata": {},
   "outputs": [
    {
     "name": "stdout",
     "output_type": "stream",
     "text": [
      "10000\n",
      "Hours: 2 Minutes: 46 Second: 40\n"
     ]
    }
   ],
   "source": [
    "#task9\n",
    "num = int(input())\n",
    "hour = num//3600\n",
    "rem = num%3600\n",
    "minutes = rem//60\n",
    "second = rem%60\n",
    "print('Hours:',hour,'Minutes:',minutes,'Second:',second)"
   ]
  },
  {
   "cell_type": "code",
   "execution_count": 22,
   "id": "0b5a3283",
   "metadata": {},
   "outputs": [
    {
     "name": "stdout",
     "output_type": "stream",
     "text": [
      "170\n",
      "Impossible to work more than 168 hours weekly\n"
     ]
    }
   ],
   "source": [
    "#task10\n",
    "hour = int(input())\n",
    "if 0<=hour<=168:\n",
    "    if hour<=40:\n",
    "        print(hour*200)\n",
    "    elif hour>40:\n",
    "        print(8000+(hour-40)*300)\n",
    "elif hour<0:\n",
    "    print('Hour cannot be negative')\n",
    "else:\n",
    "    print('Impossible to work more than 168 hours weekly')"
   ]
  },
  {
   "cell_type": "code",
   "execution_count": 24,
   "id": "ccbb88d7",
   "metadata": {},
   "outputs": [
    {
     "name": "stdout",
     "output_type": "stream",
     "text": [
      "3\n",
      "1875\n"
     ]
    }
   ],
   "source": [
    "#task11\n",
    "S = int(input())\n",
    "if S<100:\n",
    "    L = 3000 - 125 * S**2\n",
    "    print(L)\n",
    "else:\n",
    "    L = 12000/(4+(S**2/14900))\n",
    "    print(L)"
   ]
  },
  {
   "cell_type": "code",
   "execution_count": 28,
   "id": "4dd3ff21",
   "metadata": {},
   "outputs": [
    {
     "name": "stdout",
     "output_type": "stream",
     "text": [
      "27\n",
      "Wrong time\n"
     ]
    }
   ],
   "source": [
    "#task12\n",
    "hour = int(input())\n",
    "if 0<=hour<=23:\n",
    "    if 4<=hour<=6:\n",
    "        print('Breakfast')\n",
    "    elif 12<=hour<=13:\n",
    "        print(Lunch)\n",
    "    elif 16<=hour<=17:\n",
    "        print(\"Snacks\")\n",
    "    elif 19<=hour<=20:\n",
    "        print(\"Dinner\")\n",
    "    else:\n",
    "        print(\"Patience is a virtue\")\n",
    "else:\n",
    "    print('Wrong time')"
   ]
  },
  {
   "cell_type": "code",
   "execution_count": 31,
   "id": "22b3859c",
   "metadata": {},
   "outputs": [
    {
     "name": "stdout",
     "output_type": "stream",
     "text": [
      "92.26\n",
      "A\n"
     ]
    }
   ],
   "source": [
    "#task13\n",
    "marks = float(input())\n",
    "if 0<=marks<=100:\n",
    "    if marks>=90:\n",
    "        print(\"A\")\n",
    "    elif 80<=marks<=89:\n",
    "        print(\"B\")\n",
    "    elif 70<=marks<=79:\n",
    "        print(\"C\")\n",
    "    elif 60<=marks<=69:\n",
    "        print(\"D\")\n",
    "    elif 50<=marks<=59:\n",
    "        print(\"E\")\n",
    "    else:\n",
    "        print(\"F\")\n",
    "else:\n",
    "    print(\"Please Enter a valid marks\")"
   ]
  },
  {
   "cell_type": "code",
   "execution_count": 36,
   "id": "4718a695",
   "metadata": {},
   "outputs": [
    {
     "name": "stdout",
     "output_type": "stream",
     "text": [
      "25400\n",
      "3600\n",
      "25.4 Km/h\n",
      "Too slow. Needs more changes.\n"
     ]
    }
   ],
   "source": [
    "#task14\n",
    "distance = int(input())\n",
    "time = int(input())\n",
    "speed = (distance / time)*3.6\n",
    "print(speed,\"Km/h\")\n",
    "if speed<60:\n",
    "    print('Too slow. Needs more changes.')\n",
    "elif 60<=speed<=90:\n",
    "    print('Velocity is okay. The car is ready!')\n",
    "else:\n",
    "    print('Too fast. Only a few changes should suffice.')"
   ]
  },
  {
   "cell_type": "code",
   "execution_count": 37,
   "id": "cf73afff",
   "metadata": {},
   "outputs": [
    {
     "name": "stdout",
     "output_type": "stream",
     "text": [
      "3.79\n",
      "24\n",
      "The student is not eligible for a waiver\n"
     ]
    }
   ],
   "source": [
    "#task15\n",
    "cgpa =float(input())\n",
    "credit = int(input())\n",
    "if credit>=30:\n",
    "    if cgpa==4.00:\n",
    "        print('The student is eligible for a waiver of 100 percent')\n",
    "    elif 3.95<=cgpa<=3.99:\n",
    "        print('The student is eligible for a waiver of 75 percent')\n",
    "    elif 3.90<=cgpa<=3.94:\n",
    "        print('The student is eligible for a waiver of 50 percent')\n",
    "    elif 3.80<=cgpa<=3.89:\n",
    "        print('The student is eligible for a waiver of 25 percent')\n",
    "    else:\n",
    "        prnit('The student is not eligible for a waiver')\n",
    "else:\n",
    "    print('The student is not eligible for a waiver')"
   ]
  },
  {
   "cell_type": "code",
   "execution_count": 42,
   "id": "9187e5db",
   "metadata": {},
   "outputs": [
    {
     "name": "stdout",
     "output_type": "stream",
     "text": [
      "14\n",
      "14\n"
     ]
    }
   ],
   "source": [
    "#task21\n",
    "user = int(input())\n",
    "if user%2==0 and user%5==0:\n",
    "    print(\"No\")\n",
    "else:\n",
    "    print(user)"
   ]
  },
  {
   "cell_type": "code",
   "execution_count": 45,
   "id": "7087aa69",
   "metadata": {},
   "outputs": [
    {
     "name": "stdout",
     "output_type": "stream",
     "text": [
      "5\n",
      "8\n",
      "Previous total: 1200\n",
      "New total after discount: 1050\n"
     ]
    }
   ],
   "source": [
    "#task22\n",
    "canvas = int(input())\n",
    "tube = int(input())\n",
    "total = canvas*120 + tube*75\n",
    "print(\"Previous total:\",total)\n",
    "if total>=1000:\n",
    "    dis_price = total - 150\n",
    "elif 750<=total<=999:\n",
    "    dis_price = total - 50\n",
    "elif 500<=total<=749:\n",
    "    dis_price = total - 20\n",
    "elif 300<=total<=499:\n",
    "    dis_price = total - 10\n",
    "else:\n",
    "    dis_price = total\n",
    "print('New total after discount:',dis_price)"
   ]
  },
  {
   "cell_type": "code",
   "execution_count": 54,
   "id": "98370657",
   "metadata": {},
   "outputs": [
    {
     "name": "stdout",
     "output_type": "stream",
     "text": [
      "76\n",
      "24.64 degrees C\n",
      "Autumn\n"
     ]
    }
   ],
   "source": [
    "#task23\n",
    "far = float(input())\n",
    "cel = (far - 32)*0.56\n",
    "print(cel,'degrees C')\n",
    "if cel<20:\n",
    "    print(\"Winter\")\n",
    "elif 20<=cel<=25:\n",
    "    print(\"Autumn\")\n",
    "elif 25<cel<30:\n",
    "    print('Spring')\n",
    "elif cel>=30:\n",
    "    print('Summer')"
   ]
  }
 ],
 "metadata": {
  "kernelspec": {
   "display_name": "Python 3 (ipykernel)",
   "language": "python",
   "name": "python3"
  },
  "language_info": {
   "codemirror_mode": {
    "name": "ipython",
    "version": 3
   },
   "file_extension": ".py",
   "mimetype": "text/x-python",
   "name": "python",
   "nbconvert_exporter": "python",
   "pygments_lexer": "ipython3",
   "version": "3.9.13"
  }
 },
 "nbformat": 4,
 "nbformat_minor": 5
}
