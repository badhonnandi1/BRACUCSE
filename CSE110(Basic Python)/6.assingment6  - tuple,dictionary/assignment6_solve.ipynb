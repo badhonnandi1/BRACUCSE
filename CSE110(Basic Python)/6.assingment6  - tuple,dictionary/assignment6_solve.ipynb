{
 "cells": [
  {
   "cell_type": "code",
   "execution_count": 1,
   "id": "4dd9db41",
   "metadata": {},
   "outputs": [
    {
     "name": "stdout",
     "output_type": "stream",
     "text": [
      "400\n"
     ]
    }
   ],
   "source": [
    "#task1\n",
    "a_tuple = (\"The Institute\", (\"Best Mystery & Thriller\", \"The Silent Patient\", 68821), 75717,\n",
    "[1, 2, 3, 400, 5, 6, 7], (\"Best Fiction\", \"The Testaments\", 98291))\n",
    "print(a_tuple[3][3])"
   ]
  },
  {
   "cell_type": "code",
   "execution_count": 3,
   "id": "cca2e347",
   "metadata": {},
   "outputs": [
    {
     "name": "stdout",
     "output_type": "stream",
     "text": [
      "(10, 20, 24, 25, 26, 35, 70)\n",
      "(24, 25, 26)\n"
     ]
    }
   ],
   "source": [
    "#task2\n",
    "user = input()[1:-1]\n",
    "mylist = []\n",
    "mystr = ''\n",
    "for i in user:\n",
    "    if i == ',':\n",
    "        mylist.append(int(mystr))\n",
    "        mystr = ''\n",
    "    else:\n",
    "        mystr += i\n",
    "mylist.append(int(mystr))\n",
    "if len(mylist)>3:\n",
    "    print(tuple(mylist[2:-2]))"
   ]
  },
  {
   "cell_type": "code",
   "execution_count": 4,
   "id": "a9c8e473",
   "metadata": {},
   "outputs": [
    {
     "name": "stdout",
     "output_type": "stream",
     "text": [
      "Size of the tuple is: 4\n",
      "('Best Mystery & Thriller', 'The Silent Patient', 68, 821)\n",
      "('Best Horror', 'The Institute', 75, 717)\n",
      "('Best History & Biography', 'The five', 31, 783)\n",
      "('Best Fiction', 'The Testaments', 98, 291)\n"
     ]
    }
   ],
   "source": [
    "#task3\n",
    "book_info = (\n",
    "(\"Best Mystery & Thriller\",\"The Silent Patient\",68,821),\n",
    "(\"Best Horror\",\"The Institute\",75,717),\n",
    "(\"Best History & Biography\",\"The five\",31,783 ),\n",
    "(\"Best Fiction\",\"The Testaments\",98,291)\n",
    ")\n",
    "print('Size of the tuple is:',len(book_info))\n",
    "for i in book_info:\n",
    "    print(i)"
   ]
  },
  {
   "cell_type": "code",
   "execution_count": 6,
   "id": "8ca23220",
   "metadata": {},
   "outputs": [
    {
     "name": "stdout",
     "output_type": "stream",
     "text": [
      "The Silent Patient won the 'Best Mystery & Thriller' category with 68821 votes\n",
      "The Institute won the 'Best Horror' category with 75717 votes\n",
      "The five won the 'Best History & Biography' category with 31783 votes\n",
      "The Testaments won the 'Best Fiction' category with 98291 votes\n"
     ]
    }
   ],
   "source": [
    "#task4\n",
    "book_info = (\n",
    "(\"Best Mystery & Thriller\",\"The Silent Patient\",68821),\n",
    "(\"Best Horror\",\"The Institute\",75717),\n",
    "(\"Best History & Biography\",\"The five\",31783 ),\n",
    "(\"Best Fiction\",\"The Testaments\",98291)\n",
    ") \n",
    "for i in book_info:\n",
    "    a,b,c = i\n",
    "    print(b,'won the',\"'\"+str(a)+\"'\",'category with',c,'votes')"
   ]
  },
  {
   "cell_type": "code",
   "execution_count": 7,
   "id": "c1bc855b",
   "metadata": {},
   "outputs": [
    {
     "name": "stdout",
     "output_type": "stream",
     "text": [
      "8\n",
      "8 appears 4 times in the tuple\n"
     ]
    }
   ],
   "source": [
    "#task5\n",
    "given_tuple =(10, 8, 5, 2, 10, 15, 10, 8, 5, 8, 8, 2)\n",
    "user = int(input())\n",
    "count = 0\n",
    "for i in given_tuple:\n",
    "    if user is i:\n",
    "        count += 1\n",
    "print(user,'appears',count,'times in the tuple')"
   ]
  },
  {
   "cell_type": "code",
   "execution_count": 8,
   "id": "273675a7",
   "metadata": {},
   "outputs": [
    {
     "name": "stdout",
     "output_type": "stream",
     "text": [
      "('h', 'g', 'f', 'e', 'd', 'c', 'b', 'a')\n"
     ]
    }
   ],
   "source": [
    "#task6\n",
    "given =  ('a', 'b', 'c', 'd', 'e', 'f', 'g', 'h')\n",
    "print(given[::-1])"
   ]
  },
  {
   "cell_type": "code",
   "execution_count": 9,
   "id": "dcc3f06f",
   "metadata": {},
   "outputs": [
    {
     "name": "stdout",
     "output_type": "stream",
     "text": [
      "{'Harry': 15, 'Draco': 8, 'Nevil': 19, 'Ginie': 18, 'Luna': 14}\n"
     ]
    }
   ],
   "source": [
    "#task7\n",
    "dict1 = {'Harry':15, 'Draco':8, 'Nevil':19}\n",
    "dict2 = {'Ginie':18, 'Luna': 14}\n",
    "marks = {}\n",
    "marks.update(dict1)\n",
    "marks.update(dict2)\n",
    "print(marks)"
   ]
  },
  {
   "cell_type": "code",
   "execution_count": 14,
   "id": "bdf2ce4d",
   "metadata": {},
   "outputs": [
    {
     "name": "stdout",
     "output_type": "stream",
     "text": [
      "Jon:100, Dan:200, Rob:300\n",
      "Average is 200\n"
     ]
    }
   ],
   "source": [
    "#task8\n",
    "user = input()\n",
    "mylist = []\n",
    "mystr = ''\n",
    "sum = 0\n",
    "count = 0\n",
    "for i in user:\n",
    "    if i==':' or i==',':\n",
    "        mylist.append(mystr)\n",
    "        mystr = ''\n",
    "    else:\n",
    "        mystr += i\n",
    "mylist.append(mystr)\n",
    "new_list = []\n",
    "for i in range(1,len(mylist),2):\n",
    "    new_list.append(mylist[i])\n",
    "for i in new_list:\n",
    "    sum += int(i)\n",
    "    count +=1\n",
    "print('Average is',int(sum/count))"
   ]
  },
  {
   "cell_type": "code",
   "execution_count": 17,
   "id": "7f4bad5e",
   "metadata": {},
   "outputs": [
    {
     "name": "stdout",
     "output_type": "stream",
     "text": [
      "190\n",
      "{'Alden Cantrell': 200, 'Pierre Cox': 190}\n"
     ]
    }
   ],
   "source": [
    "#task9\n",
    "exam_marks = {'Cierra Vega': 175, 'Alden Cantrell': 200, 'Kierra Gentry': 165, 'Pierre Cox': 190}\n",
    "user = int(input())\n",
    "new_dict = {}\n",
    "for k,v in exam_marks.items():\n",
    "    if user<=v:\n",
    "        new_dict[k] = v\n",
    "print(new_dict)"
   ]
  },
  {
   "cell_type": "code",
   "execution_count": 18,
   "id": "9cd2f21a",
   "metadata": {},
   "outputs": [
    {
     "name": "stdout",
     "output_type": "stream",
     "text": [
      "The highest selling book genre is 'mystery' and the number of books sold are 15\n"
     ]
    }
   ],
   "source": [
    "#task10\n",
    "given = {'sci fi': 12, 'mystery': 15, 'horror': 8, 'mythology': 10, 'young_adult': 4, 'adventure':14}\n",
    "value = given['sci fi']\n",
    "key = 'sci fi'\n",
    "for k,v in given.items():\n",
    "    if v>value:\n",
    "        value = v\n",
    "        key = k\n",
    "print('The highest selling book genre is',\"'\"+str(key)+\"'\",'and the number of books sold are',value)"
   ]
  },
  {
   "cell_type": "code",
   "execution_count": 21,
   "id": "86be2fc7",
   "metadata": {},
   "outputs": [
    {
     "name": "stdout",
     "output_type": "stream",
     "text": [
      "\"Python programming is fun\"\n",
      "{'p': 2, 'y': 1, 't': 1, 'h': 1, 'o': 2, 'n': 3, 'r': 2, 'g': 2, 'a': 1, 'm': 2, 'i': 2, 's': 1, 'f': 1, 'u': 1}\n"
     ]
    }
   ],
   "source": [
    "#task11\n",
    "inp = input().lower()[1:-1]\n",
    "user = ''\n",
    "for i in inp:\n",
    "    if i!=' ':\n",
    "        user += i\n",
    "mydict = {}\n",
    "for i in user:\n",
    "    if i in mydict.keys():\n",
    "        mydict[i] += 1\n",
    "    else:\n",
    "        mydict[i] = 1\n",
    "print(mydict)"
   ]
  },
  {
   "cell_type": "code",
   "execution_count": 22,
   "id": "0236e3a0",
   "metadata": {},
   "outputs": [
    {
     "name": "stdout",
     "output_type": "stream",
     "text": [
      "9\n"
     ]
    }
   ],
   "source": [
    "#task12\n",
    "dict_1 = {'A': [1, 2, 3], 'b': ['1', '2'], \"c\": [4, 5, 6, 7]}\n",
    "count = 0\n",
    "for k,v in dict_1.items():\n",
    "    for i in v:\n",
    "        count += 1\n",
    "print(count)"
   ]
  },
  {
   "cell_type": "code",
   "execution_count": 24,
   "id": "92002edf",
   "metadata": {},
   "outputs": [
    {
     "name": "stdout",
     "output_type": "stream",
     "text": [
      "{'a': [1, 3, 2], 'b': [2, 1], 'c': [1]}\n"
     ]
    }
   ],
   "source": [
    "#task13\n",
    "list_1 = [(\"a\", 1), (\"b\", 2), (\"a\", 3), (\"b\", 1), (\"a\", 2), (\"c\", 1)]\n",
    "mydict = {}\n",
    "for i in list_1:\n",
    "    if i[0] in mydict.keys():\n",
    "        mydict[i[0]].append(i[1])\n",
    "    else:\n",
    "        mydict[i[0]] =[i[1]]\n",
    "print(mydict)"
   ]
  },
  {
   "cell_type": "code",
   "execution_count": 25,
   "id": "2b9e6c73",
   "metadata": {},
   "outputs": [
    {
     "name": "stdout",
     "output_type": "stream",
     "text": [
      "[6, 20, 42, 16]\n"
     ]
    }
   ],
   "source": [
    "#task15\n",
    "given = [(2, 3), (4, 5), (6, 7), (2, 8)]\n",
    "new_list = []\n",
    "for i in given:\n",
    "    new_list.append(i[0]*i[1])\n",
    "print(new_list)"
   ]
  },
  {
   "cell_type": "code",
   "execution_count": 26,
   "id": "dceba337",
   "metadata": {},
   "outputs": [
    {
     "name": "stdout",
     "output_type": "stream",
     "text": [
      "abc\n",
      "([1, 2, 'abc'], [4, 5, 'abc'], [7, 8, 'abc'], [10, 11, 'abc'])\n"
     ]
    }
   ],
   "source": [
    "#task16\n",
    "a_tuple = ( [1, 2, 3], [4, 5, 6], [7, 8, 9], [10, 11, 12])\n",
    "user = input()\n",
    "for i in a_tuple:\n",
    "    i[2] = user\n",
    "print(a_tuple)"
   ]
  },
  {
   "cell_type": "code",
   "execution_count": 28,
   "id": "86e2ccfa",
   "metadata": {},
   "outputs": [
    {
     "name": "stdout",
     "output_type": "stream",
     "text": [
      "{'c1': 'Red', 'c2': 'Green', 'd4': 'Blue'}\n"
     ]
    }
   ],
   "source": [
    "#task17\n",
    "my_dictionary = {'c1':'Red', 'c2':'Green', 'c3':None, 'd4':'Blue', 'a5':None}\n",
    "new_dict = {}\n",
    "for k,v in my_dictionary.items():\n",
    "    if v != None:\n",
    "        new_dict[k] = v\n",
    "print(new_dict)"
   ]
  },
  {
   "cell_type": "code",
   "execution_count": 29,
   "id": "7b2632a3",
   "metadata": {},
   "outputs": [
    {
     "name": "stdout",
     "output_type": "stream",
     "text": [
      "9\n",
      "12\n",
      "{'c': 9, 'e': 11}\n"
     ]
    }
   ],
   "source": [
    "#task18\n",
    "num1 = int(input())\n",
    "num2 = int(input())\n",
    "dict_1 = {'a' : 6, 'b' : 7, 'c' : 9, 'd' : 8, 'e' : 11, 'f' : 12, 'g' : 13}\n",
    "new_dict = {}\n",
    "for k,v in dict_1.keys():\n",
    "    if num1<=v<num2:\n",
    "        new_dict[k] = v\n",
    "print(new_dict)"
   ]
  },
  {
   "cell_type": "code",
   "execution_count": 31,
   "id": "b1531adf",
   "metadata": {},
   "outputs": [
    {
     "name": "stdout",
     "output_type": "stream",
     "text": [
      "{80: [(20, 80), (31, 80)], 22: [(1, 22)], 11: [(88, 11), (27, 11)]}\n"
     ]
    }
   ],
   "source": [
    "#task19\n",
    "mylist = [(20, 80), (31, 80), (1, 22), (88, 11), (27, 11)]\n",
    "mydict = {}\n",
    "for i in mylist:\n",
    "    if i[1] in mydict.keys():\n",
    "        mydict[i[1]].append(i)\n",
    "    else:\n",
    "        mydict[i[1]] = [i]\n",
    "print(mydict)"
   ]
  },
  {
   "cell_type": "code",
   "execution_count": 39,
   "id": "afdb00c8",
   "metadata": {},
   "outputs": [
    {
     "name": "stdout",
     "output_type": "stream",
     "text": [
      "'I love Programming. Python is love.'\n",
      "['@', '$', '&', '#']\n",
      "Words in the given String: ['I', 'love', 'Programming', 'Python', 'is', 'love']\n",
      "Answer: {'$': ['I'], '&': ['love', 'Python'], '#': ['Programming'], '@': ['is']}\n"
     ]
    }
   ],
   "source": [
    "#task20\n",
    "user1 = input()[1:-1]\n",
    "mystr1 =''\n",
    "for i in user1:\n",
    "    if i!='.':\n",
    "        mystr1 += i\n",
    "mylist1 = mystr1.split(' ')\n",
    "user2 = input()[1:-1]\n",
    "mylist2 = []\n",
    "for i in user2:\n",
    "    if not(i==',' or i==\"'\" or i==' ' or i==''):\n",
    "        mylist2.append(i)\n",
    "length = len(mylist2)\n",
    "mydict = {}\n",
    "for i in mylist1:\n",
    "    sum = 0\n",
    "    index = 0\n",
    "    for j in i:\n",
    "        sum += ord(j)\n",
    "    index = sum%length\n",
    "    key = mylist2[index]\n",
    "    if key in mydict.keys():\n",
    "        if i not in mydict[key]:\n",
    "            mydict[key].append(i)\n",
    "    else:\n",
    "        mydict[key] = [i]\n",
    "print('Words in the given String:',mylist1)\n",
    "print('Answer:',mydict)"
   ]
  }
 ],
 "metadata": {
  "kernelspec": {
   "display_name": "Python 3 (ipykernel)",
   "language": "python",
   "name": "python3"
  },
  "language_info": {
   "codemirror_mode": {
    "name": "ipython",
    "version": 3
   },
   "file_extension": ".py",
   "mimetype": "text/x-python",
   "name": "python",
   "nbconvert_exporter": "python",
   "pygments_lexer": "ipython3",
   "version": "3.9.13"
  }
 },
 "nbformat": 4,
 "nbformat_minor": 5
}
