{
 "cells": [
  {
   "cell_type": "code",
   "execution_count": 1,
   "id": "e5d0a2e9",
   "metadata": {},
   "outputs": [
    {
     "name": "stdout",
     "output_type": "stream",
     "text": [
      "24,18,12,6,0,-6"
     ]
    }
   ],
   "source": [
    "#task1(a)\n",
    "for i in range(24,-12,-6):\n",
    "    if i == -6:\n",
    "        print(i,end='')\n",
    "    else:\n",
    "        print(i,end=',')"
   ]
  },
  {
   "cell_type": "code",
   "execution_count": 2,
   "id": "9d1c2c8d",
   "metadata": {},
   "outputs": [
    {
     "name": "stdout",
     "output_type": "stream",
     "text": [
      "-10,-5,0,5,10,15,20"
     ]
    }
   ],
   "source": [
    "#task1(b)\n",
    "for i in range(-10,25,5):\n",
    "    if i==20:\n",
    "        print(i,end='')\n",
    "    else:\n",
    "        print(i,end=',')"
   ]
  },
  {
   "cell_type": "code",
   "execution_count": 3,
   "id": "30d5a3f1",
   "metadata": {},
   "outputs": [
    {
     "name": "stdout",
     "output_type": "stream",
     "text": [
      "18,27,36,45,54,63"
     ]
    }
   ],
   "source": [
    "#task1(c)\n",
    "for i in range(18,72,9):\n",
    "    if i==63:\n",
    "        print(i,end='')\n",
    "    else:\n",
    "        print(i,end=',')"
   ]
  },
  {
   "cell_type": "code",
   "execution_count": 6,
   "id": "03751aa0",
   "metadata": {},
   "outputs": [
    {
     "name": "stdout",
     "output_type": "stream",
     "text": [
      "18,-27,36,-45,54,-63"
     ]
    }
   ],
   "source": [
    "#task1(d)\n",
    "for i in range(18,72,9):\n",
    "    if i==63:\n",
    "        if i%2!=0:\n",
    "            print(i*(-1),end='')\n",
    "            \n",
    "    else:\n",
    "        if i%2==0:\n",
    "            print(i,end=',')\n",
    "        else:\n",
    "            print(i*(-1),end=',')"
   ]
  },
  {
   "cell_type": "code",
   "execution_count": 7,
   "id": "c4beec89",
   "metadata": {},
   "outputs": [
    {
     "name": "stdout",
     "output_type": "stream",
     "text": [
      "Toyota\n",
      "2\n",
      "Toyota\n",
      "Toyota\n"
     ]
    }
   ],
   "source": [
    "#task2\n",
    "user = input()\n",
    "num = int(input())\n",
    "for i in range(num):\n",
    "    print(user)"
   ]
  },
  {
   "cell_type": "code",
   "execution_count": 9,
   "id": "9b8b02a3",
   "metadata": {},
   "outputs": [
    {
     "name": "stdout",
     "output_type": "stream",
     "text": [
      "600\n",
      "2835\n"
     ]
    }
   ],
   "source": [
    "#task3\n",
    "num = int(input())\n",
    "sum = 0\n",
    "for i in range(1,num+1):\n",
    "    if i%7==0 and i%9==0:\n",
    "        sum += i\n",
    "print(sum)"
   ]
  },
  {
   "cell_type": "code",
   "execution_count": 11,
   "id": "2642bb23",
   "metadata": {},
   "outputs": [
    {
     "name": "stdout",
     "output_type": "stream",
     "text": [
      "600\n",
      "39814\n"
     ]
    }
   ],
   "source": [
    "#task4\n",
    "num = int(input())\n",
    "sum = 0\n",
    "for i in range(1,num+1):\n",
    "    if not(i%7==0 and i%9==0) and (i%7==0 or i%9==0):\n",
    "        sum += i\n",
    "print(sum)"
   ]
  },
  {
   "cell_type": "code",
   "execution_count": 12,
   "id": "8963ff69",
   "metadata": {},
   "outputs": [
    {
     "name": "stdout",
     "output_type": "stream",
     "text": [
      "11 13 15 17 19 21 23 25 27 29 31 33 35 37 39 41 43 45 47 49 "
     ]
    }
   ],
   "source": [
    "#task5\n",
    "for i in range(11,50,2):\n",
    "    print(i,end=' ')"
   ]
  },
  {
   "cell_type": "code",
   "execution_count": 14,
   "id": "b0a66a46",
   "metadata": {},
   "outputs": [
    {
     "name": "stdout",
     "output_type": "stream",
     "text": [
      "10\n",
      "-55\n"
     ]
    }
   ],
   "source": [
    "#task6\n",
    "num = int(input())\n",
    "n1 = 0\n",
    "n2 = 0\n",
    "for i in range(1,num+1,2):\n",
    "    n1 += i**2\n",
    "for i in range(2,num+1,2):\n",
    "    n2 += i**2\n",
    "print(n1 - n2)"
   ]
  },
  {
   "cell_type": "code",
   "execution_count": 16,
   "id": "1c599ae5",
   "metadata": {},
   "outputs": [
    {
     "name": "stdout",
     "output_type": "stream",
     "text": [
      "1\n",
      "2\n",
      "3\n",
      "4\n",
      "5\n",
      "6\n",
      "7\n",
      "8\n",
      "9\n",
      "10\n",
      "The total of the odd numbers is 25 and their average is 5.0\n"
     ]
    }
   ],
   "source": [
    "#task7\n",
    "sum = 0\n",
    "count = 0\n",
    "for i in range(10):\n",
    "    num = int(input())\n",
    "    if num%2!=0:\n",
    "        sum+=num\n",
    "        count+=1\n",
    "print('The total of the odd numbers is',sum,'and their average is',sum/count)"
   ]
  },
  {
   "cell_type": "code",
   "execution_count": 17,
   "id": "80862e34",
   "metadata": {},
   "outputs": [
    {
     "name": "stdout",
     "output_type": "stream",
     "text": [
      "50\n",
      "196\n"
     ]
    }
   ],
   "source": [
    "#task8\n",
    "num =int(input())\n",
    "sum = 0\n",
    "for i in range(1,num+1):\n",
    "    if i%7==0:\n",
    "        sum +=i\n",
    "print(sum)"
   ]
  },
  {
   "cell_type": "code",
   "execution_count": 18,
   "id": "e2195e31",
   "metadata": {},
   "outputs": [
    {
     "name": "stdout",
     "output_type": "stream",
     "text": [
      "1\n",
      "1\n",
      "2\n",
      "3\n",
      "3\n",
      "6\n",
      "4\n",
      "10\n",
      "5\n",
      "15\n"
     ]
    }
   ],
   "source": [
    "#task9\n",
    "sum = 0\n",
    "for i in range(5):\n",
    "    user = int(input())\n",
    "    sum +=user\n",
    "    print(sum)"
   ]
  },
  {
   "cell_type": "code",
   "execution_count": 19,
   "id": "b6890ec1",
   "metadata": {},
   "outputs": [
    {
     "name": "stdout",
     "output_type": "stream",
     "text": [
      "32768\n",
      "8,6,7,2,3"
     ]
    }
   ],
   "source": [
    "#task10\n",
    "num =int(input())\n",
    "while num!=0:\n",
    "    result = num%10\n",
    "    num //= 10\n",
    "    if num==0:\n",
    "        print(result,end='')\n",
    "    else:\n",
    "        print(result,end=',')"
   ]
  },
  {
   "cell_type": "code",
   "execution_count": 20,
   "id": "3a448381",
   "metadata": {},
   "outputs": [
    {
     "name": "stdout",
     "output_type": "stream",
     "text": [
      "9876\n",
      "4\n"
     ]
    }
   ],
   "source": [
    "#task11\n",
    "num = int(input())\n",
    "num//=10\n",
    "count = 1\n",
    "while num!= 0:\n",
    "    num//=10\n",
    "    count+=1\n",
    "print(count)"
   ]
  },
  {
   "cell_type": "code",
   "execution_count": 24,
   "id": "9764402a",
   "metadata": {},
   "outputs": [
    {
     "name": "stdout",
     "output_type": "stream",
     "text": [
      "32768\n",
      "3,2,7,6,8"
     ]
    }
   ],
   "source": [
    "#task12\n",
    "user = int(input())\n",
    "num = user\n",
    "multi =1\n",
    "num//=10\n",
    "count = 1\n",
    "while num!= 0:\n",
    "    num//=10\n",
    "    count+=1\n",
    "count -=1\n",
    "for i in range(count):\n",
    "    multi *= 10\n",
    "while user!=0:\n",
    "    result = user//multi\n",
    "    user %= multi\n",
    "    multi //= 10\n",
    "    if user==0:\n",
    "        print(result,end='')\n",
    "    else:\n",
    "        print(result,end=',')"
   ]
  },
  {
   "cell_type": "code",
   "execution_count": 25,
   "id": "ed83e4b9",
   "metadata": {},
   "outputs": [
    {
     "name": "stdout",
     "output_type": "stream",
     "text": [
      "6\n",
      "1\n",
      "2\n",
      "3\n",
      "6\n",
      "Total 4 divisors.\n"
     ]
    }
   ],
   "source": [
    "#task13\n",
    "num =int(input())\n",
    "divisor = 0\n",
    "for i in range(1,num+1):\n",
    "    if num%i==0:\n",
    "       divisor +=1\n",
    "       print(i)\n",
    "print(\"Total\",divisor,'divisors.')\n",
    "    "
   ]
  },
  {
   "cell_type": "code",
   "execution_count": 27,
   "id": "7bafa703",
   "metadata": {},
   "outputs": [
    {
     "name": "stdout",
     "output_type": "stream",
     "text": [
      "33\n",
      "33 is not a perfect number\n"
     ]
    }
   ],
   "source": [
    "#task14\n",
    "num = int(input())\n",
    "sum = 0\n",
    "for i in range(1,num):\n",
    "    if num%i==0:\n",
    "        sum +=i\n",
    "if sum == num:\n",
    "    print(num,'is a perfect number')\n",
    "else:\n",
    "    print(num,'is not a perfect number')"
   ]
  },
  {
   "cell_type": "code",
   "execution_count": 29,
   "id": "dc073798",
   "metadata": {},
   "outputs": [
    {
     "name": "stdout",
     "output_type": "stream",
     "text": [
      "11\n",
      "11 is a prime number\n"
     ]
    }
   ],
   "source": [
    "#task15\n",
    "num =int(input())\n",
    "divisor = 0\n",
    "for i in range(1,num+1):\n",
    "    if num%i==0:\n",
    "       divisor +=1\n",
    "if divisor == 2:\n",
    "    print(num,'is a prime number')\n",
    "else:\n",
    "    print(num,'is not a prime number')"
   ]
  },
  {
   "cell_type": "code",
   "execution_count": 30,
   "id": "2f6dcc05",
   "metadata": {},
   "outputs": [
    {
     "name": "stdout",
     "output_type": "stream",
     "text": [
      "5\n",
      "10\n",
      "4\n",
      "-1\n",
      "-100\n",
      "1\n",
      "Maximum 10\n",
      "Minimum -100\n",
      "Average is -17.2\n"
     ]
    }
   ],
   "source": [
    "#task16\n",
    "num = int(input())\n",
    "max = 0\n",
    "min = 0\n",
    "sum = 0\n",
    "for i in range(num):\n",
    "    user = int(input())\n",
    "    if user>max:\n",
    "        max = user\n",
    "    if user<min:\n",
    "        min = user\n",
    "    sum += user\n",
    "print(\"Maximum\",max)\n",
    "print('Minimum',min)\n",
    "print('Average is',sum/num)"
   ]
  },
  {
   "cell_type": "code",
   "execution_count": 31,
   "id": "c895809c",
   "metadata": {},
   "outputs": [
    {
     "name": "stdout",
     "output_type": "stream",
     "text": [
      "5\n",
      "+++++\n",
      "+++++\n",
      "+++++\n",
      "+++++\n",
      "+++++\n"
     ]
    }
   ],
   "source": [
    "#task17\n",
    "num = int(input())\n",
    "for row in range(num):\n",
    "    for coloum in range(num):\n",
    "        print(\"+\",end='')\n",
    "    print()"
   ]
  },
  {
   "cell_type": "code",
   "execution_count": 32,
   "id": "b4aeba45",
   "metadata": {},
   "outputs": [
    {
     "name": "stdout",
     "output_type": "stream",
     "text": [
      "4\n",
      "6\n",
      "123456\n",
      "123456\n",
      "123456\n",
      "123456\n"
     ]
    }
   ],
   "source": [
    "#task18\n",
    "M = int(input())\n",
    "N = int(input())\n",
    "for row in range(1,M+1):\n",
    "    for coloum in range(1,N+1):\n",
    "        print(coloum,end='')\n",
    "    print()"
   ]
  },
  {
   "cell_type": "code",
   "execution_count": 34,
   "id": "e63cb711",
   "metadata": {},
   "outputs": [
    {
     "name": "stdout",
     "output_type": "stream",
     "text": [
      "4\n",
      "1\n",
      "12\n",
      "123\n",
      "1234\n"
     ]
    }
   ],
   "source": [
    "#task19\n",
    "N = int(input())\n",
    "for row in range(1,N+1):\n",
    "    for coloum  in range(1,row+1):\n",
    "        print(coloum,end='')\n",
    "    print()"
   ]
  },
  {
   "cell_type": "code",
   "execution_count": 37,
   "id": "c8191575",
   "metadata": {},
   "outputs": [
    {
     "name": "stdout",
     "output_type": "stream",
     "text": [
      "10\n",
      "0 1 1 2 3 5 8 "
     ]
    }
   ],
   "source": [
    "#task25\n",
    "num =int(input())\n",
    "num1= 0\n",
    "num2 = 1\n",
    "sum = 0\n",
    "if num<0:\n",
    "    print(\"Please Bro enter a valid number\")\n",
    "else:\n",
    "    for i in range(num):\n",
    "        if sum<num:\n",
    "            print(sum,end=' ')\n",
    "            num1 = num2 \n",
    "            num2 = sum\n",
    "            sum = num1 + num2\n",
    "    "
   ]
  },
  {
   "cell_type": "code",
   "execution_count": 41,
   "id": "18d3aaf6",
   "metadata": {},
   "outputs": [
    {
     "name": "stdout",
     "output_type": "stream",
     "text": [
      "29\n",
      "11101\n"
     ]
    }
   ],
   "source": [
    "#task26\n",
    "num = int(input())\n",
    "mystr = ''\n",
    "while num!=0:\n",
    "    result = num%2\n",
    "    mystr = str(result) + mystr\n",
    "    num //=2\n",
    "print(int(mystr))"
   ]
  },
  {
   "cell_type": "code",
   "execution_count": 56,
   "id": "fb611e5d",
   "metadata": {},
   "outputs": [
    {
     "name": "stdout",
     "output_type": "stream",
     "text": [
      "1010\n",
      "10\n"
     ]
    }
   ],
   "source": [
    "#task27\n",
    "user = int(input())\n",
    "num = user\n",
    "num//=10\n",
    "count = 1\n",
    "while num!= 0:\n",
    "    num//=10\n",
    "    count+=1\n",
    "sum = 0\n",
    "i = 0\n",
    "while user!=0:\n",
    "    result = user%10\n",
    "    user //= 10\n",
    "    sum += result * (2**i)\n",
    "    i += 1\n",
    "print(sum)"
   ]
  },
  {
   "cell_type": "code",
   "execution_count": 64,
   "id": "1ef61897",
   "metadata": {},
   "outputs": [
    {
     "name": "stdout",
     "output_type": "stream",
     "text": [
      "2\n",
      "6\n",
      "Between 2 and 6,\n",
      "Found 3 prime numbers\n",
      "Found 1 perfect number\n",
      "Prime numbers: 2,3,5\n",
      "Perfect number: 6\n"
     ]
    }
   ],
   "source": [
    "#task28\n",
    "num1 = int(input())\n",
    "num2 = int(input())\n",
    "prime = 0\n",
    "perfect = 0\n",
    "prime_num = ''\n",
    "perfect_num = ''\n",
    "\n",
    "for i in range(num1,num2+1):\n",
    "    sum = 0\n",
    "    divisor = 0\n",
    "    for j in range(1,i+1):\n",
    "        if i%j==0:\n",
    "            divisor += 1\n",
    "    if divisor ==2:\n",
    "        prime += 1\n",
    "        prime_num += str(i)+','\n",
    "    for k in range(1,i):\n",
    "        if i%k==0:\n",
    "            sum += k\n",
    "    if i==sum:\n",
    "        perfect += 1\n",
    "        perfect_num += str(i)+','\n",
    "print('Between 2 and 6,')\n",
    "if prime==1:\n",
    "    print(\"Found\",prime,'prime number')\n",
    "else:\n",
    "    print(\"Found\",prime,'prime numbers')\n",
    "if perfect==1:\n",
    "    print(\"Found\",perfect,'perfect number')\n",
    "else:\n",
    "    print(\"Found\",perfect,'perfect numbers')\n",
    "print('Prime numbers:',prime_num[:-1])\n",
    "print('Perfect number:',perfect_num[:-1])"
   ]
  },
  {
   "cell_type": "code",
   "execution_count": 70,
   "id": "4c6a00ea",
   "metadata": {},
   "outputs": [
    {
     "name": "stdout",
     "output_type": "stream",
     "text": [
      "25\n",
      "30\n",
      "4\n",
      "12 16 0 "
     ]
    }
   ],
   "source": [
    "#task29\n",
    "u1 = int(input())\n",
    "length_u1 = len(str(u1))\n",
    "u2 = int(input())\n",
    "divisor = int(input())\n",
    "\n",
    "for i in range(u1,u2+1):\n",
    "    multi = 1\n",
    "    for j in range(length_u1):\n",
    "        x = str(i)\n",
    "        x = x[j]\n",
    "        multi = multi * int(x)\n",
    "        continue\n",
    "    if multi%divisor == 0:\n",
    "        print(multi,end=' ')"
   ]
  },
  {
   "cell_type": "code",
   "execution_count": null,
   "id": "81d999b0",
   "metadata": {},
   "outputs": [],
   "source": []
  }
 ],
 "metadata": {
  "kernelspec": {
   "display_name": "Python 3 (ipykernel)",
   "language": "python",
   "name": "python3"
  },
  "language_info": {
   "codemirror_mode": {
    "name": "ipython",
    "version": 3
   },
   "file_extension": ".py",
   "mimetype": "text/x-python",
   "name": "python",
   "nbconvert_exporter": "python",
   "pygments_lexer": "ipython3",
   "version": "3.9.13"
  }
 },
 "nbformat": 4,
 "nbformat_minor": 5
}
