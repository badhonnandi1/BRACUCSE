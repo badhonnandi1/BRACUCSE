{
 "cells": [
  {
   "cell_type": "code",
   "execution_count": 1,
   "id": "a5f0056e",
   "metadata": {},
   "outputs": [
    {
     "name": "stdout",
     "output_type": "stream",
     "text": [
      "3\n",
      "[3]\n",
      "5\n",
      "[3, 5]\n",
      "34\n",
      "[3, 5, 34]\n",
      "-11\n",
      "[3, 5, 34, -11]\n",
      "0\n",
      "[3, 5, 34, -11, 0]\n"
     ]
    }
   ],
   "source": [
    "#task1\n",
    "mylist = []\n",
    "for i in range(5):\n",
    "    user = int(input())\n",
    "    mylist.append(user)\n",
    "    print(mylist)"
   ]
  },
  {
   "cell_type": "code",
   "execution_count": 2,
   "id": "573efa10",
   "metadata": {},
   "outputs": [
    {
     "name": "stdout",
     "output_type": "stream",
     "text": [
      "10, 20, 24, 25, 26, 35, 70\n",
      "[24, 25, 26]\n"
     ]
    }
   ],
   "source": [
    "#task2\n",
    "user = input()\n",
    "mylist = []\n",
    "mystr = ''\n",
    "for i in user:\n",
    "    if i ==',':\n",
    "        mylist.append(int(mystr))\n",
    "        mystr = ''\n",
    "    else:\n",
    "        mystr += i\n",
    "mylist.append(int(mystr))\n",
    "if len(mylist)>3:\n",
    "    print(mylist[2:-2])\n",
    "else:\n",
    "    print('Not possible')"
   ]
  },
  {
   "cell_type": "code",
   "execution_count": 4,
   "id": "3acfb9c6",
   "metadata": {},
   "outputs": [
    {
     "name": "stdout",
     "output_type": "stream",
     "text": [
      "5\n",
      "-5\n",
      "100\n",
      "1\n",
      "0\n",
      "Printing values from the list in reverse order:\n",
      "0\n",
      "1\n",
      "100\n",
      "-5\n",
      "5\n"
     ]
    }
   ],
   "source": [
    "#task3\n",
    "mylist=[]\n",
    "for i in range(5):\n",
    "    user = int(input())\n",
    "    mylist.append(user)\n",
    "print('Printing values from the list in reverse order:')\n",
    "for i in range(len(mylist)-1,-1,-1):\n",
    "    print(mylist[i])"
   ]
  },
  {
   "cell_type": "code",
   "execution_count": 3,
   "id": "7bc686fc",
   "metadata": {},
   "outputs": [
    {
     "name": "stdout",
     "output_type": "stream",
     "text": [
      "[1, 4, 9, 16, 25, 36, 49]\n"
     ]
    }
   ],
   "source": [
    "#task4\n",
    "givenlist = [1, 2, 3, 4, 5, 6, 7]\n",
    "newlist = []\n",
    "for i in givenlist:\n",
    "    newlist.append(i*i)\n",
    "print(newlist)"
   ]
  },
  {
   "cell_type": "code",
   "execution_count": 5,
   "id": "1a5152a9",
   "metadata": {},
   "outputs": [
    {
     "name": "stdout",
     "output_type": "stream",
     "text": [
      "Original List: ['hey', 'there', '', \"what's\", '', 'up', '', '?']\n",
      "Modified List: ['hey', 'there', \"what's\", 'up', '?']\n"
     ]
    }
   ],
   "source": [
    "#task5\n",
    "user = [\"hey\", \"there\", \"\", \"what's\", \"\", \"up\", \"\", \"?\"]\n",
    "mylist = []\n",
    "print('Original List:',user)\n",
    "for i in user:\n",
    "    if i!='':\n",
    "        mylist.append(i)\n",
    "print('Modified List:',mylist)"
   ]
  },
  {
   "cell_type": "code",
   "execution_count": 7,
   "id": "aeae01e4",
   "metadata": {},
   "outputs": [
    {
     "name": "stdout",
     "output_type": "stream",
     "text": [
      "7, 13, 2, 10, 6, -11, 0\n",
      "My list: [7, 13, 2, 10, 6, -11, 0]\n",
      "Largest number in the list is 13 which was found at index 1.\n"
     ]
    }
   ],
   "source": [
    "#task6\n",
    "user = input()\n",
    "mylist = []\n",
    "mystr = ''\n",
    "for i in user:\n",
    "    if i ==',':\n",
    "        mylist.append(int(mystr))\n",
    "        mystr = ''\n",
    "    else:\n",
    "        mystr += i\n",
    "mylist.append(int(mystr))\n",
    "print('My list:',mylist)\n",
    "large = mylist[0]\n",
    "index = 0\n",
    "for i in range(1,len(mylist)):\n",
    "    if mylist[i]>large:\n",
    "        large = mylist[i]\n",
    "        index = i\n",
    "print('Largest number in the list is',large,'which was found at index',str(index)+'.')"
   ]
  },
  {
   "cell_type": "code",
   "execution_count": 8,
   "id": "d1deaaa7",
   "metadata": {},
   "outputs": [
    {
     "name": "stdout",
     "output_type": "stream",
     "text": [
      "[1, 4, 7, 6, 1, 3, 9]\n"
     ]
    }
   ],
   "source": [
    "#task7\n",
    "list_one = [1, 4, 7, 5]\n",
    "list_two = [6, 1, 3, 9]\n",
    "final = list_one[:-1] + list_two[:]\n",
    "print(final)"
   ]
  },
  {
   "cell_type": "code",
   "execution_count": 9,
   "id": "23481eea",
   "metadata": {},
   "outputs": [
    {
     "name": "stdout",
     "output_type": "stream",
     "text": [
      "[2, 4, 6, 8, 10, 12, -14, -16]\n"
     ]
    }
   ],
   "source": [
    "#task8\n",
    "list_one = [1, 2, 3, 4, 5, 6, 7, 8, 9]\n",
    "list_two = [10, 11, 12, -13, -14, -15, -16]\n",
    "final = list_one + list_two\n",
    "even_list = []\n",
    "for i in final:\n",
    "    if i%2==0:\n",
    "        even_list.append(i)\n",
    "print(even_list)\n",
    "        "
   ]
  },
  {
   "cell_type": "code",
   "execution_count": 12,
   "id": "cc5a53ab",
   "metadata": {},
   "outputs": [
    {
     "name": "stdout",
     "output_type": "stream",
     "text": [
      "7 12 4 55 96 2 11 61 33 42\n",
      "Orginal list: [7, 12, 4, 55, 96, 2, 11, 61, 33, 42]\n",
      "Modified list: [7, 55, 11, 61, 33]\n"
     ]
    }
   ],
   "source": [
    "#task9\n",
    "user = input()\n",
    "mylist = []\n",
    "mystr = ''\n",
    "for i in user:\n",
    "    if i ==' ':\n",
    "        mylist.append(int(mystr))\n",
    "        mystr = ''\n",
    "    else:\n",
    "        mystr += i\n",
    "mylist.append(int(mystr))\n",
    "print(\"Orginal list:\",mylist)\n",
    "modified = []\n",
    "for i in mylist:\n",
    "    if i%2!=0:\n",
    "        modified.append(i)\n",
    "print('Modified list:',modified)"
   ]
  },
  {
   "cell_type": "code",
   "execution_count": 13,
   "id": "6d3787a5",
   "metadata": {},
   "outputs": [
    {
     "name": "stdout",
     "output_type": "stream",
     "text": [
      "0, 0, 1, 2, 3, 4, 4, 5, 6, 6, 6, 7, 8, 9, 4, 4\n",
      "Input list: [0, 0, 1, 2, 3, 4, 4, 5, 6, 6, 6, 7, 8, 9, 4, 4]\n",
      "Modified list: [0, 1, 2, 3, 4, 5, 6, 7, 8, 9]\n"
     ]
    }
   ],
   "source": [
    "#task10\n",
    "user = input()\n",
    "mylist = []\n",
    "mystr = ''\n",
    "for i in user:\n",
    "    if i ==',':\n",
    "        mylist.append(int(mystr))\n",
    "        mystr = ''\n",
    "    else:\n",
    "        mystr += i\n",
    "mylist.append(int(mystr))\n",
    "print('Input list:',mylist)\n",
    "modified = []\n",
    "for i in mylist:\n",
    "    if i not in modified:\n",
    "        modified.append(i)\n",
    "print('Modified list:',modified)"
   ]
  },
  {
   "cell_type": "code",
   "execution_count": 14,
   "id": "8e2bf3ac",
   "metadata": {},
   "outputs": [
    {
     "name": "stdout",
     "output_type": "stream",
     "text": [
      "True\n"
     ]
    }
   ],
   "source": [
    "#task11\n",
    "list1 =  [1, 4, 3, 2, 6]\n",
    "list2 =  [5, 6, 9, 8, 7]\n",
    "condition = False\n",
    "for i in list2:\n",
    "    if i in list1:\n",
    "        condition = True\n",
    "print(condition)"
   ]
  },
  {
   "cell_type": "code",
   "execution_count": 18,
   "id": "08af07ec",
   "metadata": {},
   "outputs": [
    {
     "name": "stdout",
     "output_type": "stream",
     "text": [
      "7, 13, 2, 10, 6, -11, 0\n",
      "My list: [7, 13, 2, 10, 6, -11, 0]\n",
      "Second largest number in the list is 10  which was found at index 3.\n"
     ]
    }
   ],
   "source": [
    "#task16\n",
    "user = input()\n",
    "mylist = []\n",
    "mystr = ''\n",
    "for i in user:\n",
    "    if i ==',':\n",
    "        mylist.append(int(mystr))\n",
    "        mystr = ''\n",
    "    else:\n",
    "        mystr += i\n",
    "mylist.append(int(mystr))\n",
    "print('My list:',mylist)\n",
    "large1 = mylist[0]\n",
    "index1 = 0\n",
    "for i in range(1,len(mylist)):\n",
    "    if mylist[i]>large1:\n",
    "        large1 = mylist[i]\n",
    "        index1 = i\n",
    "newlist= mylist[:index1] + mylist[index1+1:]\n",
    "index2 = 0\n",
    "large2 = newlist[0]\n",
    "for i in range(len(newlist)):\n",
    "    if newlist[i]>large2:\n",
    "        large2 = newlist[i]\n",
    "        index2 = i\n",
    "print('Second largest number in the list is',large2,' which was found at index',str(index1+index2)+'.')"
   ]
  },
  {
   "cell_type": "code",
   "execution_count": 22,
   "id": "0d8c74d9",
   "metadata": {},
   "outputs": [
    {
     "name": "stdout",
     "output_type": "stream",
     "text": [
      "7, 13, -5, 10, 6\n",
      "My list: [7, 13, -5, 10, 6]\n",
      "Smallest number in the list is -5 which was found at index 2\n",
      "Largest  number in the list is 13 which was found at index 1\n"
     ]
    }
   ],
   "source": [
    "#task17\n",
    "user = input()\n",
    "mylist = []\n",
    "mystr = ''\n",
    "for i in user:\n",
    "    if i ==',':\n",
    "        mylist.append(int(mystr))\n",
    "        mystr = ''\n",
    "    else:\n",
    "        mystr += i\n",
    "mylist.append(int(mystr))\n",
    "print(\"My list:\",mylist)\n",
    "large = mylist[0]\n",
    "small = mylist[0]\n",
    "indexL = 0\n",
    "indexS = 0\n",
    "for i in range(1,len(mylist)):\n",
    "    if mylist[i]>large:\n",
    "        large = mylist[i]\n",
    "        indexL = i\n",
    "    if mylist[i]<small:\n",
    "        small = mylist[i]\n",
    "        indexS = i\n",
    "print('Smallest number in the list is',small,'which was found at index',indexS)\n",
    "print('Largest  number in the list is',large,'which was found at index',indexL)"
   ]
  },
  {
   "cell_type": "code",
   "execution_count": 33,
   "id": "31fc4fe2",
   "metadata": {},
   "outputs": [
    {
     "name": "stdout",
     "output_type": "stream",
     "text": [
      "1, 3, A, H, P\n",
      "A, G, 1, P, O\n",
      "['1', 'A', 'P']\n"
     ]
    }
   ],
   "source": [
    "#task18\n",
    "user1 = input()\n",
    "user2 = input()\n",
    "mylist1 = []\n",
    "mystr1 = ''\n",
    "mylist2 = []\n",
    "mystr2 = ''\n",
    "for i in user1:\n",
    "    if i ==',':\n",
    "        mylist1.append((mystr1))\n",
    "        mystr1 = ''\n",
    "    else:\n",
    "        if i!=' ':\n",
    "            mystr1 += i\n",
    "mylist1.append((mystr1))\n",
    "for i in user2:\n",
    "    if i ==',':\n",
    "        mylist2.append((mystr2))\n",
    "        mystr2 = ''\n",
    "    else:\n",
    "        if i!=' ':\n",
    "            mystr2 += i\n",
    "mylist2.append((mystr2))\n",
    "modified = []\n",
    "for i in mylist1:\n",
    "    if i in mylist2:\n",
    "        modified.append(i)\n",
    "print(modified)"
   ]
  },
  {
   "cell_type": "code",
   "execution_count": 34,
   "id": "2ef56204",
   "metadata": {},
   "outputs": [
    {
     "name": "stdout",
     "output_type": "stream",
     "text": [
      "[1, 2, 4, 5, 7, 99, 200, 303, 70, 3, 500, -5]\n"
     ]
    }
   ],
   "source": [
    "#task19\n",
    "list_one = [1, 2, 2, 4, 5, 5, 7, 99, 200, 303, 70]\n",
    "list_two = [1, 1, 2, 3, 3, 3, 4, 5, 200, 500, -5]\n",
    "moded_list = []\n",
    "for i in list_one:\n",
    "    if i not in  moded_list:\n",
    "        moded_list.append(i)\n",
    "for i in list_two:\n",
    "    if i not in moded_list:\n",
    "        moded_list.append(i)\n",
    "print(moded_list)"
   ]
  },
  {
   "cell_type": "code",
   "execution_count": 39,
   "id": "184a5b29",
   "metadata": {},
   "outputs": [
    {
     "name": "stdout",
     "output_type": "stream",
     "text": [
      "\"      [1,   2   ,         3,   50,   4]         \"\n",
      "Orginal data:       [1,   2   ,         3,   50,   4]         \n",
      "After removing square brackets:\n",
      "Numbers in string format with extra white spaces: ['1', '   2   ', '         3', '   50', '   4']\n",
      "Final data (numbers in list format): [1, 2, 3, 50, 4]\n"
     ]
    }
   ],
   "source": [
    "#task20\n",
    "user = input()[1:-1]\n",
    "print(\"Orginal data:\",user)\n",
    "index1 = 0\n",
    "index2 = 0\n",
    "for i in range(len(user)):\n",
    "    if user[i] =='[':\n",
    "        index1 = i\n",
    "    if user[i] ==']':\n",
    "        index2 = i\n",
    "user = user[index1+1:index2]\n",
    "print('After removing square brackets:',)\n",
    "mylist = []\n",
    "mystr = ''\n",
    "for i in user:\n",
    "    if i==',':\n",
    "        mylist.append(mystr)\n",
    "        mystr = ''\n",
    "    else:\n",
    "        mystr += i\n",
    "mylist.append(mystr)\n",
    "print('Numbers in string format with extra white spaces:',mylist)\n",
    "final = []\n",
    "for i in mylist:\n",
    "    final.append(int(i))\n",
    "print('Final data (numbers in list format):',final)"
   ]
  },
  {
   "cell_type": "code",
   "execution_count": 41,
   "id": "494b8fab",
   "metadata": {},
   "outputs": [
    {
     "name": "stdout",
     "output_type": "stream",
     "text": [
      "0, 0, 1, 2, 3, 4,      4, 5, 6, 6, 6,      7, 8, 9, 4,         4\n",
      "Given numbers in list: [0, 0, 1, 2, 3, 4, 4, 5, 6, 6, 6, 7, 8, 9, 4, 4]\n",
      "List without any dupliacte values:  [0, 1, 2, 3, 4, 5, 6, 7, 8, 9]\n"
     ]
    }
   ],
   "source": [
    "#task21\n",
    "user = input()\n",
    "mylist = []\n",
    "mystr = ''\n",
    "for i in user:\n",
    "    if i ==',':\n",
    "        mylist.append(int(mystr))\n",
    "        mystr = ''\n",
    "    else:\n",
    "        mystr += i\n",
    "mylist.append(int(mystr))\n",
    "print('Given numbers in list:',mylist)\n",
    "modified = []\n",
    "for i in mylist:\n",
    "    if i not in modified:\n",
    "        modified.append(i)\n",
    "print('List without any dupliacte values: ',modified)"
   ]
  }
 ],
 "metadata": {
  "kernelspec": {
   "display_name": "Python 3 (ipykernel)",
   "language": "python",
   "name": "python3"
  },
  "language_info": {
   "codemirror_mode": {
    "name": "ipython",
    "version": 3
   },
   "file_extension": ".py",
   "mimetype": "text/x-python",
   "name": "python",
   "nbconvert_exporter": "python",
   "pygments_lexer": "ipython3",
   "version": "3.9.13"
  }
 },
 "nbformat": 4,
 "nbformat_minor": 5
}
