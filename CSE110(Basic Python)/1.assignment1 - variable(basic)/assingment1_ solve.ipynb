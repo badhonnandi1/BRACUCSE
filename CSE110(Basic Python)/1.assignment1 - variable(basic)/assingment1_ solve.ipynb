{
 "cells": [
  {
   "cell_type": "code",
   "execution_count": 2,
   "id": "619740f1",
   "metadata": {},
   "outputs": [
    {
     "name": "stdout",
     "output_type": "stream",
     "text": [
      "hello world\n"
     ]
    }
   ],
   "source": [
    "#task1\n",
    "print('hello world')"
   ]
  },
  {
   "cell_type": "code",
   "execution_count": 3,
   "id": "368b568c",
   "metadata": {},
   "outputs": [
    {
     "name": "stdout",
     "output_type": "stream",
     "text": [
      "110\n"
     ]
    }
   ],
   "source": [
    "#task2\n",
    "print(54+56)"
   ]
  },
  {
   "cell_type": "code",
   "execution_count": 4,
   "id": "f401dcd9",
   "metadata": {},
   "outputs": [
    {
     "name": "stdout",
     "output_type": "stream",
     "text": [
      "Fall\n",
      "2022\n"
     ]
    }
   ],
   "source": [
    "#task3\n",
    "season = 'Fall'\n",
    "year = 2022\n",
    "print(season)\n",
    "print(year)"
   ]
  },
  {
   "cell_type": "code",
   "execution_count": 5,
   "id": "dd03d3bc",
   "metadata": {},
   "outputs": [
    {
     "name": "stdout",
     "output_type": "stream",
     "text": [
      "Please Enter Your Name : John\n",
      "Your Name is John\n"
     ]
    }
   ],
   "source": [
    "#task4\n",
    "user = input('Please Enter Your Name : ')\n",
    "print(\"Your Name is\",user)"
   ]
  },
  {
   "cell_type": "code",
   "execution_count": 9,
   "id": "751c6f73",
   "metadata": {},
   "outputs": [
    {
     "name": "stdout",
     "output_type": "stream",
     "text": [
      "2\n",
      "3\n",
      "2^3: 8\n"
     ]
    }
   ],
   "source": [
    "#task5\n",
    "M = int(input())\n",
    "N = int(input())\n",
    "print(str(M)+'^'+str(N)+':',M**N)"
   ]
  },
  {
   "cell_type": "code",
   "execution_count": 10,
   "id": "96cb81bb",
   "metadata": {},
   "outputs": [
    {
     "name": "stdout",
     "output_type": "stream",
     "text": [
      "9\n",
      "8\n"
     ]
    }
   ],
   "source": [
    "#task6\n",
    "weight = int(input())\n",
    "print(weight-weight%4)"
   ]
  },
  {
   "cell_type": "code",
   "execution_count": 11,
   "id": "027ce622",
   "metadata": {},
   "outputs": [
    {
     "name": "stdout",
     "output_type": "stream",
     "text": [
      "2\n",
      "6\n",
      "8\n",
      "1.3\n",
      "267\n"
     ]
    }
   ],
   "source": [
    "#task7\n",
    "\n",
    "A = int(input())\n",
    "B = int(input())\n",
    "C = int(input())\n",
    "D = float(input())\n",
    "F = int(A**C+B*A-D/3)\n",
    "print(F)"
   ]
  },
  {
   "cell_type": "code",
   "execution_count": 12,
   "id": "5367bec5",
   "metadata": {},
   "outputs": [
    {
     "name": "stdout",
     "output_type": "stream",
     "text": [
      "50\n",
      "Each friend will receive 16 chocolates The\n",
      "number of remaining chocolates is 2\n"
     ]
    }
   ],
   "source": [
    "#task8\n",
    "user = int(input())\n",
    "print('Each friend will receive',user//3,'chocolates The')\n",
    "print('number of remaining chocolates is',user%3)"
   ]
  },
  {
   "cell_type": "code",
   "execution_count": 13,
   "id": "10284f45",
   "metadata": {},
   "outputs": [
    {
     "name": "stdout",
     "output_type": "stream",
     "text": [
      "5\n",
      "2\n",
      "25\n"
     ]
    }
   ],
   "source": [
    "#task9\n",
    "M = input()\n",
    "N = input()\n",
    "print(N+M)"
   ]
  },
  {
   "cell_type": "code",
   "execution_count": 14,
   "id": "681dd300",
   "metadata": {},
   "outputs": [
    {
     "name": "stdout",
     "output_type": "stream",
     "text": [
      "The quick brown fox jumps over the lazy dog \n",
      "T\n"
     ]
    }
   ],
   "source": [
    "#task10\n",
    "user = input()\n",
    "print(user[0])"
   ]
  },
  {
   "cell_type": "code",
   "execution_count": 15,
   "id": "1e03ca8b",
   "metadata": {},
   "outputs": [
    {
     "name": "stdout",
     "output_type": "stream",
     "text": [
      "7\n",
      "False\n"
     ]
    }
   ],
   "source": [
    "#task11\n",
    "user = int(input())\n",
    "if user%2==0:\n",
    "    print(True)\n",
    "else:\n",
    "    print(False)"
   ]
  }
 ],
 "metadata": {
  "kernelspec": {
   "display_name": "Python 3 (ipykernel)",
   "language": "python",
   "name": "python3"
  },
  "language_info": {
   "codemirror_mode": {
    "name": "ipython",
    "version": 3
   },
   "file_extension": ".py",
   "mimetype": "text/x-python",
   "name": "python",
   "nbconvert_exporter": "python",
   "pygments_lexer": "ipython3",
   "version": "3.9.13"
  }
 },
 "nbformat": 4,
 "nbformat_minor": 5
}
