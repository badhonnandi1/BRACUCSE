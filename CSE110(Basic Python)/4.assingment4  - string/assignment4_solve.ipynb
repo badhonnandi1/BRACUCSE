{
 "cells": [
  {
   "cell_type": "code",
   "execution_count": 4,
   "id": "77366ad7",
   "metadata": {},
   "outputs": [
    {
     "name": "stdout",
     "output_type": "stream",
     "text": [
      "CSE110\n",
      "011ESC011ESC\n"
     ]
    }
   ],
   "source": [
    "#task1\n",
    "user = input()\n",
    "for i in range(len(user)-1,-1,-1):\n",
    "    print(user[i],end='')\n",
    "\n",
    "# print(user[::-1])"
   ]
  },
  {
   "cell_type": "code",
   "execution_count": 9,
   "id": "a10e5737",
   "metadata": {},
   "outputs": [
    {
     "name": "stdout",
     "output_type": "stream",
     "text": [
      "aBcd1234defg\n",
      "5\n",
      "21dcBa34defg\n"
     ]
    }
   ],
   "source": [
    "#task2\n",
    "user = input()\n",
    "index = int(input())\n",
    "new = user[index::-1] + user[index+1:]\n",
    "print(new)"
   ]
  },
  {
   "cell_type": "code",
   "execution_count": 11,
   "id": "ba6e58c5",
   "metadata": {},
   "outputs": [
    {
     "name": "stdout",
     "output_type": "stream",
     "text": [
      "12344ab0\n",
      "Not a Binary Number\n"
     ]
    }
   ],
   "source": [
    "#task3\n",
    "user = input()\n",
    "condition = True\n",
    "for i in user:\n",
    "    if i not in '01':\n",
    "        condition = False\n",
    "        break\n",
    "if condition:\n",
    "    print(\"Binary\")\n",
    "else:\n",
    "    print('Not a Binary Number')\n",
    "    "
   ]
  },
  {
   "cell_type": "code",
   "execution_count": 17,
   "id": "171205b9",
   "metadata": {},
   "outputs": [
    {
     "name": "stdout",
     "output_type": "stream",
     "text": [
      "ber\n",
      "best\n"
     ]
    }
   ],
   "source": [
    "#task4\n",
    "user = input()\n",
    "if user[-2:] == \"er\":\n",
    "    print(user[:-2]+'est')\n",
    "elif user[:-3] =='est':\n",
    "    print(user)\n",
    "elif len(user)>3:\n",
    "    print(user+'er')\n",
    "elif len(user)<4:\n",
    "    print(user)\n"
   ]
  },
  {
   "cell_type": "code",
   "execution_count": 20,
   "id": "abeb5f95",
   "metadata": {
    "scrolled": true
   },
   "outputs": [
    {
     "name": "stdout",
     "output_type": "stream",
     "text": [
      "BANGLA\n",
      "B\n",
      "BA\n",
      "BAN\n",
      "BANG\n",
      "BANGL\n",
      "BANGLA\n"
     ]
    }
   ],
   "source": [
    "#task5\n",
    "user = input()\n",
    "for row in range(1,len(user)+1):\n",
    "    for coloum in range(row):\n",
    "        print(user[coloum],end='')\n",
    "    print()"
   ]
  },
  {
   "cell_type": "code",
   "execution_count": 21,
   "id": "8600017a",
   "metadata": {},
   "outputs": [
    {
     "name": "stdout",
     "output_type": "stream",
     "text": [
      "Programming\n",
      "P : 80\n",
      "r : 114\n",
      "o : 111\n",
      "g : 103\n",
      "r : 114\n",
      "a : 97\n",
      "m : 109\n",
      "m : 109\n",
      "i : 105\n",
      "n : 110\n",
      "g : 103\n"
     ]
    }
   ],
   "source": [
    "#task6\n",
    "user = input()\n",
    "for i in user:\n",
    "    print(i,\":\",ord(i))"
   ]
  },
  {
   "cell_type": "code",
   "execution_count": 23,
   "id": "a3309d2b",
   "metadata": {},
   "outputs": [
    {
     "name": "stdout",
     "output_type": "stream",
     "text": [
      "xyzabc\n",
      "yzabcd"
     ]
    }
   ],
   "source": [
    "#task7\n",
    "user = input()\n",
    "for i in user:\n",
    "    if i == 'z':\n",
    "        print('a',end='')\n",
    "    else:\n",
    "        print(chr(ord(i)+1),end=\"\")"
   ]
  },
  {
   "cell_type": "code",
   "execution_count": 26,
   "id": "48c10879",
   "metadata": {},
   "outputs": [
    {
     "name": "stdout",
     "output_type": "stream",
     "text": [
      "sTring\n",
      "TIG"
     ]
    }
   ],
   "source": [
    "#task8\n",
    "user = input()\n",
    "for i in range(len(user)):\n",
    "    if i%2!=0:\n",
    "        if 65<=ord(user[i])<=90:\n",
    "            print(user[i],end='')\n",
    "        else:\n",
    "            print(chr(ord(user[i])-32),end='')\n",
    "            "
   ]
  },
  {
   "cell_type": "code",
   "execution_count": 30,
   "id": "8977a4ec",
   "metadata": {},
   "outputs": [
    {
     "name": "stdout",
     "output_type": "stream",
     "text": [
      "AAABBBBCDDBBECE\n",
      "ABCDBECE\n"
     ]
    }
   ],
   "source": [
    "#task9\n",
    "user = input()\n",
    "mystr = user[0]\n",
    "for i in range(1,len(user)):\n",
    "    if user[i-1]!=user[i]:\n",
    "        mystr += user[i]\n",
    "print(mystr)"
   ]
  },
  {
   "cell_type": "code",
   "execution_count": 45,
   "id": "30b6a1d2",
   "metadata": {},
   "outputs": [
    {
     "name": "stdout",
     "output_type": "stream",
     "text": [
      "ijkl, ABCDENDFGH\n",
      "iAjBkClDENDFGH\n"
     ]
    }
   ],
   "source": [
    "#task10\n",
    "user = input()\n",
    "index1 = 0\n",
    "for i in range(len(user)):\n",
    "#     print(user[i])\n",
    "    if user[i]==',':\n",
    "        index1 = i\n",
    "        break\n",
    "first = user[:index1]\n",
    "second = user[index1+2:]\n",
    "if len(first)>len(second):\n",
    "    longer = first\n",
    "    short = second\n",
    "else:\n",
    "    longer = second\n",
    "    short = first\n",
    "final = ''\n",
    "for i in range(len(short)):\n",
    "    final += first[i] + second[i]\n",
    "for i in range(len(short),len(longer)):\n",
    "    final += longer[i]\n",
    "print(final)"
   ]
  },
  {
   "cell_type": "code",
   "execution_count": 50,
   "id": "135b2900",
   "metadata": {},
   "outputs": [
    {
     "name": "stdout",
     "output_type": "stream",
     "text": [
      "hi\n",
      "a\n",
      "hi\n"
     ]
    }
   ],
   "source": [
    "#task16\n",
    "user = input()\n",
    "inp = input()\n",
    "if inp in user:\n",
    "    for i in user:\n",
    "        if i!=inp:\n",
    "            print(i,end='')\n",
    "    \n",
    "else:\n",
    "    if len(user)>3:\n",
    "        print(user[1:-1])\n",
    "    else:\n",
    "        print(user)\n",
    "    "
   ]
  },
  {
   "cell_type": "code",
   "execution_count": 51,
   "id": "ce9157b5",
   "metadata": {},
   "outputs": [
    {
     "name": "stdout",
     "output_type": "stream",
     "text": [
      "This-is-CSE110\n",
      "-\n",
      "This\n",
      "is\n",
      "CSE110\n"
     ]
    }
   ],
   "source": [
    "#task17\n",
    "user = input()\n",
    "inp = input()\n",
    "mystr = ''\n",
    "for i in user:\n",
    "    if i==inp:\n",
    "        mystr += '\\n'\n",
    "    else:\n",
    "        mystr += i\n",
    "print(mystr)"
   ]
  },
  {
   "cell_type": "code",
   "execution_count": 53,
   "id": "e6078d58",
   "metadata": {},
   "outputs": [
    {
     "name": "stdout",
     "output_type": "stream",
     "text": [
      "CSE110\n",
      "3\n",
      "CSE110CSE110CSE110CSE110CSE110CSE110CSE110CSE110CSE110\n"
     ]
    }
   ],
   "source": [
    "#task18\n",
    "user = input()\n",
    "num = int(input())\n",
    "if num%2==0:\n",
    "    print(user*num*2)\n",
    "else:\n",
    "    print(user*num*3)"
   ]
  },
  {
   "cell_type": "code",
   "execution_count": 61,
   "id": "40635b4f",
   "metadata": {},
   "outputs": [
    {
     "name": "stdout",
     "output_type": "stream",
     "text": [
      "Python programming is very easy\n",
      "PyThOn PrOgRaMmInG iS vErY eAsY\n"
     ]
    }
   ],
   "source": [
    "#task19\n",
    "user = input()\n",
    "mystr = user.upper()[0]\n",
    "flag = True\n",
    "for i in range(1,len(user)):\n",
    "    if user[i] in '1234567890 ':\n",
    "        mystr += user[i]\n",
    "    elif flag:\n",
    "        mystr += user.lower()[i]\n",
    "        flag = False\n",
    "    elif not flag:\n",
    "        mystr += user.upper()[i]\n",
    "        flag = True\n",
    "print(mystr)"
   ]
  }
 ],
 "metadata": {
  "kernelspec": {
   "display_name": "Python 3 (ipykernel)",
   "language": "python",
   "name": "python3"
  },
  "language_info": {
   "codemirror_mode": {
    "name": "ipython",
    "version": 3
   },
   "file_extension": ".py",
   "mimetype": "text/x-python",
   "name": "python",
   "nbconvert_exporter": "python",
   "pygments_lexer": "ipython3",
   "version": "3.9.13"
  }
 },
 "nbformat": 4,
 "nbformat_minor": 5
}
