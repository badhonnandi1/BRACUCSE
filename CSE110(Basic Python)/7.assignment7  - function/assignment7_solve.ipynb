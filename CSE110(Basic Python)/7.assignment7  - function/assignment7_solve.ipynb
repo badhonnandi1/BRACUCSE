{
 "cells": [
  {
   "cell_type": "code",
   "execution_count": 1,
   "id": "9dbdd3a4",
   "metadata": {},
   "outputs": [
    {
     "name": "stdout",
     "output_type": "stream",
     "text": [
      "Odd!!\n"
     ]
    }
   ],
   "source": [
    "#task1\n",
    "def even_checker(num):\n",
    "    if num%2==0:\n",
    "        print(\"Even!!\")\n",
    "    else:\n",
    "        print('Odd!!')\n",
    "    \n",
    "even_checker(5)"
   ]
  },
  {
   "cell_type": "code",
   "execution_count": 3,
   "id": "9bc706a5",
   "metadata": {},
   "outputs": [
    {
     "name": "stdout",
     "output_type": "stream",
     "text": [
      "0 1 1 2 3 5 8 "
     ]
    }
   ],
   "source": [
    "#task2\n",
    "def fibonacci(num):\n",
    "    num1 = 0\n",
    "    num2 = 1\n",
    "    sum = 0\n",
    "    if num<0:\n",
    "        print(\"Please enter a correct number\")\n",
    "    else:\n",
    "        for i in range(num):\n",
    "            if sum<num:\n",
    "                print(sum,end=' ')\n",
    "                num1 = num2\n",
    "                num2 = sum \n",
    "                sum = num1 + num2\n",
    "\n",
    "fibonacci(10)"
   ]
  },
  {
   "cell_type": "code",
   "execution_count": 4,
   "id": "45d928e4",
   "metadata": {},
   "outputs": [
    {
     "name": "stdout",
     "output_type": "stream",
     "text": [
      "Boo\n"
     ]
    }
   ],
   "source": [
    "#task3\n",
    "def foo_moo(num):\n",
    "    if num%2==0 and num%3==0:\n",
    "        return \"FooMoo\"\n",
    "    elif num%2==0:\n",
    "        return \"Foo\"\n",
    "    elif num%3==0:\n",
    "        return \"Moo\"\n",
    "    else:\n",
    "        return \"Boo\"\n",
    "print(foo_moo(5))"
   ]
  },
  {
   "cell_type": "code",
   "execution_count": 5,
   "id": "c0d5f79f",
   "metadata": {},
   "outputs": [
    {
     "name": "stdout",
     "output_type": "stream",
     "text": [
      "No. of Uppercase characters : 3\n",
      "No. of Lowercase Characters: 12\n"
     ]
    }
   ],
   "source": [
    "#task4\n",
    "def function_name(sentence):\n",
    "    upper = 0\n",
    "    lower = 0\n",
    "    for i in sentence:\n",
    "        if 65<=ord(i)<=90:\n",
    "            upper += 1\n",
    "        elif 97<=ord(i)<=122:\n",
    "            lower += 1\n",
    "    print('No. of Uppercase characters :',upper)\n",
    "    print('No. of Lowercase Characters:',lower)\n",
    "\n",
    "\n",
    "function_name('The quick Sand Man')"
   ]
  },
  {
   "cell_type": "code",
   "execution_count": 7,
   "id": "1d77f086",
   "metadata": {},
   "outputs": [
    {
     "name": "stdout",
     "output_type": "stream",
     "text": [
      "20\n",
      "18000\n",
      "assistant manager\n",
      "900.0\n"
     ]
    }
   ],
   "source": [
    "#task5\n",
    "def calculate_tax(age,salary,info):\n",
    "    if age<18:\n",
    "        return 0\n",
    "    else:\n",
    "        if info=='president' or info=='student':\n",
    "            return 0\n",
    "        else:\n",
    "            if salary<10000:\n",
    "                return 0\n",
    "            elif 10000<=salary<=20000:\n",
    "                return ((salary/100)*5)\n",
    "            elif salary>=20000:\n",
    "                return ((salary/100)*10)\n",
    "\n",
    "\n",
    "u_age = int(input())\n",
    "u_salary= int(input())\n",
    "u_info = input().lower()\n",
    "print(calculate_tax(u_age,u_salary,u_info))"
   ]
  },
  {
   "cell_type": "code",
   "execution_count": 10,
   "id": "bf96039d",
   "metadata": {},
   "outputs": [
    {
     "name": "stdout",
     "output_type": "stream",
     "text": [
      "11 years, 10 months and 15 days\n"
     ]
    }
   ],
   "source": [
    "#task6\n",
    "def function_name(num):\n",
    "    year = num //365\n",
    "    rem = num%365\n",
    "    month = rem //30\n",
    "    day = rem %30\n",
    "    print(year,'years,',month,'months and',day,'days')\n",
    "    \n",
    "function_name(4330)"
   ]
  },
  {
   "cell_type": "code",
   "execution_count": 15,
   "id": "7dea266c",
   "metadata": {},
   "outputs": [
    {
     "name": "stdout",
     "output_type": "stream",
     "text": [
      "123454321\n"
     ]
    }
   ],
   "source": [
    "#tasl7\n",
    "def show_palindrome(num):\n",
    "    mystr = ''\n",
    "    for i in range(1,num):\n",
    "        mystr += str(i)\n",
    "    for i in range(num,0,-1):\n",
    "        mystr += str(i)\n",
    "    return mystr\n",
    "\n",
    "print(show_palindrome(5))"
   ]
  },
  {
   "cell_type": "code",
   "execution_count": 27,
   "id": "fd53bba7",
   "metadata": {},
   "outputs": [
    {
     "name": "stdout",
     "output_type": "stream",
     "text": [
      "5\n",
      "        1 \n",
      "      1 2 1 \n",
      "    1 2 3 2 1 \n",
      "  1 2 3 4 3 2 1 \n",
      "1 2 3 4 5 4 3 2 1 \n"
     ]
    }
   ],
   "source": [
    "#task8\n",
    "def show_palindromic_triangle(num):\n",
    "    mystr = ''\n",
    "    for i in range(1,num):\n",
    "        mystr += str(i)+' '\n",
    "    for i in range(num,0,-1):\n",
    "        mystr += str(i)+' '\n",
    "    return mystr\n",
    "inp = int(input())\n",
    "for row in range(1,inp+1):\n",
    "    for space in range((inp-row)*2):    \n",
    "        print(' ',end='')\n",
    "    print(show_palindromic_triangle(row))"
   ]
  },
  {
   "cell_type": "code",
   "execution_count": 29,
   "id": "7e7ce8ba",
   "metadata": {},
   "outputs": [
    {
     "name": "stdout",
     "output_type": "stream",
     "text": [
      "(3.141592653589793, 6.283185307179586)\n",
      "Area of the circle is 3.141592653589793  and circumference is 6.283185307179586\n"
     ]
    }
   ],
   "source": [
    "#TASK9\n",
    "def area_circumference_generator(radious):\n",
    "    import math\n",
    "    area = math.pi*radious**2\n",
    "    circum = 2*math.pi*radious\n",
    "    return area,circum\n",
    "    \n",
    "mytuple = area_circumference_generator(1)\n",
    "print(mytuple)\n",
    "marea , mcircum = mytuple\n",
    "print('Area of the circle is',marea,' and circumference is',mcircum)"
   ]
  },
  {
   "cell_type": "code",
   "execution_count": 33,
   "id": "8d07812f",
   "metadata": {},
   "outputs": [
    {
     "name": "stdout",
     "output_type": "stream",
     "text": [
      "{1: 1, 2: 4, 3: 9}\n"
     ]
    }
   ],
   "source": [
    "#task10\n",
    "def make_square(mytuple):\n",
    "    mydict = {}\n",
    "    for i in range(mytuple[0],mytuple[1]+1):\n",
    "        mydict[i] = i*i\n",
    "    print(mydict)\n",
    "make_square((1,3))\n"
   ]
  },
  {
   "cell_type": "code",
   "execution_count": 36,
   "id": "75ec3550",
   "metadata": {},
   "outputs": [
    {
     "name": "stdout",
     "output_type": "stream",
     "text": [
      "(1, 2, 3, 4, 5, 6, 0)\n"
     ]
    }
   ],
   "source": [
    "#task11\n",
    "def rem_duplicate(mytuple):\n",
    "    mylist = []\n",
    "    for i in mytuple:\n",
    "        if i not in mylist:\n",
    "            mylist.append(i)\n",
    "    print(tuple(mylist))\n",
    "\n",
    "rem_duplicate((1,1,1,2,3,4,5,6,6,6,6,4,0,0,0))"
   ]
  },
  {
   "cell_type": "code",
   "execution_count": 38,
   "id": "e06d8d44",
   "metadata": {},
   "outputs": [
    {
     "name": "stdout",
     "output_type": "stream",
     "text": [
      "[1, 2, 3, 3, 4, 5, 8, 8]\n"
     ]
    }
   ],
   "source": [
    "#task12\n",
    "def function_name(mylist):\n",
    "    new_list = []\n",
    "    for i in mylist:\n",
    "        if new_list.count(i)<2:\n",
    "            new_list.append(i)\n",
    "    print(new_list)\n",
    "\n",
    "function_name([1, 2, 3, 3, 3, 3, 4, 5, 8, 8])"
   ]
  },
  {
   "cell_type": "code",
   "execution_count": 39,
   "id": "236408a7",
   "metadata": {},
   "outputs": [
    {
     "name": "stdout",
     "output_type": "stream",
     "text": [
      "+\n",
      "10\n",
      "20\n",
      "30.0\n"
     ]
    }
   ],
   "source": [
    "#task13\n",
    "def function_name(oprator,opender1,opender2):\n",
    "    if oprator =='+':\n",
    "        return opender1 + opender2\n",
    "    elif oprator =='-':\n",
    "        return opender1 - opender2\n",
    "    elif oprator =='*':\n",
    "        return opender1 * opender2\n",
    "    elif oprator =='/':\n",
    "        return opender1 / opender2\n",
    "\n",
    "u_operator = input()\n",
    "u_opender1 = float(input())\n",
    "u_opender2 = float(input())\n",
    "print(function_name(u_operator, u_opender1, u_opender2))"
   ]
  },
  {
   "cell_type": "code",
   "execution_count": 40,
   "id": "033023ca",
   "metadata": {},
   "outputs": [
    {
     "name": "stdout",
     "output_type": "stream",
     "text": [
      "\"Python is easy to learn. I love python.\"\n",
      "6\n",
      "Pythonis eay to earn.I lov pythn. sl eo\n"
     ]
    }
   ],
   "source": [
    "#task14\n",
    "def function_name(Sentence,Position):\n",
    "    mystr = Sentence[0]\n",
    "    final = ''\n",
    "    for i in range(1,len(Sentence)):\n",
    "        if i%Position!=0:\n",
    "            mystr += Sentence[i]\n",
    "        else:\n",
    "            final += Sentence[i]\n",
    "    return mystr + final\n",
    "\n",
    "user = input()[1:-1]\n",
    "index = int(input())\n",
    "\n",
    "print(function_name(user,index))"
   ]
  },
  {
   "cell_type": "code",
   "execution_count": 49,
   "id": "4e1931e5",
   "metadata": {},
   "outputs": [
    {
     "name": "stdout",
     "output_type": "stream",
     "text": [
      "Sir, please enter your desired list: [\"Rice\", \"Beef\", \"Rice\"]\n",
      "Sir, please enter a location: Mohakhali\n",
      "Price: 790\n"
     ]
    }
   ],
   "source": [
    "#task15\n",
    "def input_taker():\n",
    "    user = input('Sir, please enter your desired list: ').replace('\"', '')\n",
    "    user = user.replace(']', '').replace('[', '').replace(' ', '').split(\",\")\n",
    "    location = input(\"Sir, please enter a location: \").lower()\n",
    "    if location == '':\n",
    "        print(function_name(user))\n",
    "    else:\n",
    "        print(\"Price:\",function_name(user, location))\n",
    "        \n",
    "def function_name(user, location='dhanmondi'):\n",
    "    \n",
    "    menu = {\"Rice\": 105,\n",
    "            \"Potato\": 20, \n",
    "            \"Chicken\": 250,\n",
    "            \"Beef\": 510, \n",
    "            \"Oil\": 85}\n",
    "    \n",
    "    total = 30 if location == 'dhanmondi' else 70\n",
    "    for item in user:\n",
    "        total += menu[item]\n",
    "    return total\n",
    "input_taker()"
   ]
  },
  {
   "cell_type": "code",
   "execution_count": 50,
   "id": "86f27736",
   "metadata": {},
   "outputs": [
    {
     "name": "stdout",
     "output_type": "stream",
     "text": [
      "1225\n",
      "500 taka:2 notes(s)\n",
      "100 taka:2 notes(s)\n",
      "20 taka:1 notes(s)\n",
      "5 taka:1 notes(s)\n",
      "\n"
     ]
    }
   ],
   "source": [
    "#task16\n",
    "def splitting_money(amount):\n",
    "  mystr=''\n",
    "  if amount>=500:\n",
    "    notes=amount//500\n",
    "    amount=amount%500\n",
    "    mystr+='500 taka:'+str(notes)+' notes(s)\\n'\n",
    "  if amount>=100:\n",
    "    notes=amount//100\n",
    "    amount=amount%100\n",
    "    mystr+='100 taka:'+str(notes)+' notes(s)\\n'\n",
    "  if amount>=50:\n",
    "    notes=amount//50\n",
    "    amount=amount%50\n",
    "    mystr+='50 taka:'+str(notes)+' notes(s)\\n'\n",
    "  if amount>=20:\n",
    "    notes=amount//20\n",
    "    amount=amount%20\n",
    "    mystr+='20 taka:'+str(notes)+' notes(s)\\n'\n",
    "  if amount>=10:\n",
    "    notes=amount//10\n",
    "    amount=amount%10\n",
    "    mystr+='10 taka:'+str(notes)+' notes(s)\\n'\n",
    "  if amount>=5:\n",
    "    notes=amount//5\n",
    "    amount=amount%5\n",
    "    mystr+='5 taka:'+str(notes)+' notes(s)\\n'\n",
    "  if amount>=2:\n",
    "    notes=amount//2\n",
    "    amount=amount%2\n",
    "    mystr+='2 taka:'+str(notes)+' notes(s)\\n'\n",
    "  if amount>=1:\n",
    "    notes=amount//1\n",
    "    amount=amount%1\n",
    "    mystr+='1 taka:'+str(notes)+' notes(s)'\n",
    "  return mystr\n",
    "user=int(input())\n",
    "total=splitting_money(user)\n",
    "print(total)"
   ]
  },
  {
   "cell_type": "code",
   "execution_count": 51,
   "id": "2e04c116",
   "metadata": {},
   "outputs": [
    {
     "name": "stdout",
     "output_type": "stream",
     "text": [
      "[44, 66, 88, 10]\n"
     ]
    }
   ],
   "source": [
    "#task17\n",
    "def remove_odd(mylist):\n",
    "  new_list=[]\n",
    "  for i in mylist:\n",
    "    if i%2==0:\n",
    "      new_list.append(i)\n",
    "  return new_list\n",
    "even_list=remove_odd ([21, 33, 44, 66, 11, 1, 88, 45, 10, 9])\n",
    "print(even_list)"
   ]
  },
  {
   "cell_type": "code",
   "execution_count": 53,
   "id": "f62e9307",
   "metadata": {},
   "outputs": [
    {
     "name": "stdout",
     "output_type": "stream",
     "text": [
      "10\n",
      "40\n",
      "4\n",
      "7\n",
      "210\n"
     ]
    }
   ],
   "source": [
    "#task18\n",
    "def function_name(starting,ending,first,second):\n",
    "    sum=0\n",
    "    for i in range(starting,ending):\n",
    "        if (i%first==0 or i%second==0) and not((i%first==0 and i%second==0)):\n",
    "            sum+=i\n",
    "    return sum\n",
    "num1=int(input())\n",
    "num2=int(input())\n",
    "div_1=int(input())\n",
    "div_2=int(input())\n",
    "total=function_name(num1,num2,div_1,div_2)\n",
    "print(total)"
   ]
  },
  {
   "cell_type": "code",
   "execution_count": 54,
   "id": "65dd1f36",
   "metadata": {},
   "outputs": [
    {
     "name": "stdout",
     "output_type": "stream",
     "text": [
      "PSG will win the Champions League this season\n",
      "PSG will win the Champions League this season\n",
      "PSG will win the Champions League this season\n",
      "PSG will win the Champions League this season\n",
      "PSG will win the Champions League this season\n",
      "PSG will win the Champions League this season\n",
      "\n"
     ]
    }
   ],
   "source": [
    "#task19\n",
    "def function_name(sentence):\n",
    "    count=0\n",
    "    \n",
    "    for i in sentence:\n",
    "        if 97<=ord(i)<=122:\n",
    "            count+=1\n",
    "    mystr=''  \n",
    "    new_sentence='PSG will win the Champions League this season'\n",
    "    if count>0:\n",
    "        for i in range(5):\n",
    "            mystr+=new_sentence+'\\n'\n",
    "    else:\n",
    "        for i in range(6):\n",
    "            mystr+=new_sentence+'\\n'\n",
    "    return mystr \n",
    "final_result=function_name(\"ABBCDEFEFGHI\")\n",
    "print(final_result)"
   ]
  },
  {
   "cell_type": "code",
   "execution_count": 56,
   "id": "f26f292c",
   "metadata": {},
   "outputs": [
    {
     "name": "stdout",
     "output_type": "stream",
     "text": [
      "2110000\n"
     ]
    }
   ],
   "source": [
    "#task20\n",
    "def individul_bonus_calculation(name,earning,goals,bonus_percent):\n",
    "    salary=0\n",
    "    bonus=goals*((earning/100)*5)\n",
    "    if goals>30:\n",
    "        salary=int(bonus)+10000\n",
    "    elif 20<=salary<=30:\n",
    "        salary=int(bonus)+5000\n",
    "    print(salary)\n",
    "individul_bonus_calculation(\"Neymar\", 1200000, 35, 5)"
   ]
  },
  {
   "cell_type": "code",
   "execution_count": 58,
   "id": "675a6ddf",
   "metadata": {},
   "outputs": [
    {
     "name": "stdout",
     "output_type": "stream",
     "text": [
      "Neymar earned a bonus of 3605000 Take for 30 goals.\n",
      "Jamal earned a bonus of 665000 Take for 19 goals.\n"
     ]
    }
   ],
   "source": [
    "#task21\n",
    "def individul_bonus_calculation(*arg):\n",
    "    n=len(arg)\n",
    "    i=0\n",
    "    while i<n:\n",
    "        name,earning,num_goals,percentage=arg[i:i+4]\n",
    "        bonus=earning*percentage/100*num_goals\n",
    "        if num_goals>30:\n",
    "              bonus+=10000\n",
    "        elif 20<=num_goals<=30:\n",
    "              bonus+=5000\n",
    "        print(f'{name} earned a bonus of {int(bonus)} Take for {num_goals} goals.')\n",
    "        i+=4\n",
    "individul_bonus_calculation(\"Neymar\", 1200000, 30, 10, \"Jamal\", 700000, 19, 5)"
   ]
  },
  {
   "cell_type": "code",
   "execution_count": null,
   "id": "6064e574",
   "metadata": {},
   "outputs": [],
   "source": []
  }
 ],
 "metadata": {
  "kernelspec": {
   "display_name": "Python 3 (ipykernel)",
   "language": "python",
   "name": "python3"
  },
  "language_info": {
   "codemirror_mode": {
    "name": "ipython",
    "version": 3
   },
   "file_extension": ".py",
   "mimetype": "text/x-python",
   "name": "python",
   "nbconvert_exporter": "python",
   "pygments_lexer": "ipython3",
   "version": "3.9.13"
  }
 },
 "nbformat": 4,
 "nbformat_minor": 5
}
