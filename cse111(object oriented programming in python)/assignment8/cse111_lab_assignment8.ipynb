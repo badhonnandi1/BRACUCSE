{
  "nbformat": 4,
  "nbformat_minor": 0,
  "metadata": {
    "colab": {
      "provenance": []
    },
    "kernelspec": {
      "name": "python3",
      "display_name": "Python 3"
    },
    "language_info": {
      "name": "python"
    }
  },
  "cells": [
    {
      "cell_type": "markdown",
      "source": [
        "TASK1"
      ],
      "metadata": {
        "id": "-g-OgRYIdskq"
      }
    },
    {
      "cell_type": "code",
      "source": [
        "class RealNumber:\n",
        "    \n",
        "    def __init__(self, r=0):\n",
        "        self.__realValue = r  \n",
        "    def getRealValue(self):\n",
        "        return self.__realValue\n",
        "    def setRealValue(self, r):\n",
        "        self.__realValue = r\n",
        "    def __str__(self):\n",
        "        return 'RealPart: '+str(self.getRealValue())    \n",
        "    \n",
        "class ComplexNumber(RealNumber):\n",
        "  def __init__(self,radius=1,imaginary=1):\n",
        "    super().__init__(float(radius))\n",
        "    self.imaginary = float(imaginary) \n",
        "  \n",
        "  def __str__(self):\n",
        "    mystr = super().__str__() + f\"\\nImaginaryPart: {self.imaginary}\"\n",
        "    return mystr\n",
        "\n",
        "cn1 = ComplexNumber()\n",
        "print(cn1)\n",
        "print('---------')\n",
        "cn2 = ComplexNumber(5,7)\n",
        "print(cn2)"
      ],
      "metadata": {
        "colab": {
          "base_uri": "https://localhost:8080/"
        },
        "id": "nbAI7O6hd4pd",
        "outputId": "645c5075-705f-4c8e-f912-6173873823a9"
      },
      "execution_count": null,
      "outputs": [
        {
          "output_type": "stream",
          "name": "stdout",
          "text": [
            "RealPart: 1.0\n",
            "ImaginaryPart: 1.0\n",
            "---------\n",
            "RealPart: 5.0\n",
            "ImaginaryPart: 7.0\n"
          ]
        }
      ]
    },
    {
      "cell_type": "markdown",
      "source": [
        "TASK2"
      ],
      "metadata": {
        "id": "vXiErpxteY1U"
      }
    },
    {
      "cell_type": "code",
      "source": [
        "class RealNumber:\n",
        "    def __init__(self, number=0):\n",
        "        self.number = number\n",
        "    def __add__(self, anotherRealNumber):\n",
        "        return self.number + anotherRealNumber.number\n",
        "    def __sub__(self, anotherRealNumber):\n",
        "        return self.number - anotherRealNumber.number\n",
        "    def __str__(self):\n",
        "        return str(self.number)\n",
        "\n",
        "\n",
        "class ComplexNumber(RealNumber):\n",
        "  def __init__(self,real,imaginary):\n",
        "    if type(real) == int:\n",
        "      super().__init__(real)\n",
        "    else:\n",
        "      super().__init__(real.number)\n",
        "\n",
        "    self.imaginary = imaginary\n",
        "  \n",
        "  def __str__(self):\n",
        "    mystr = ''\n",
        "    if self.imaginary>0:\n",
        "      mystr += super().__str__() + f\" + {self.imaginary}i\"\n",
        "    else:\n",
        "      mystr += super().__str__() + f\" - {self.imaginary*(-1)}i\"\n",
        "    return mystr\n",
        "  \n",
        "  def __add__(self,others):\n",
        "    number = super().__add__(others)\n",
        "    imaginary = self.imaginary + others.imaginary\n",
        "    return ComplexNumber(number,imaginary)\n",
        "\n",
        "  def __sub__(self,others):\n",
        "    number = super().__sub__(others)\n",
        "    imaginary = self.imaginary - others.imaginary\n",
        "    return ComplexNumber(number,imaginary)\n",
        "      \n",
        "    \n",
        "\n",
        "    \n",
        "r1 = RealNumber(3)\n",
        "r2 = RealNumber(5)\n",
        "print(r1+r2)\n",
        "cn1 = ComplexNumber(2, 1)\n",
        "print(cn1)\n",
        "cn2 = ComplexNumber(r1, 5)\n",
        "print(cn2)\n",
        "cn3 = cn1 + cn2\n",
        "print(cn3)\n",
        "cn4 = cn1 - cn2\n",
        "print(cn4)\n"
      ],
      "metadata": {
        "colab": {
          "base_uri": "https://localhost:8080/"
        },
        "id": "9MSIf9DHePJL",
        "outputId": "d28d1f9a-73f6-4968-8c7b-30dc0c8ec9e8"
      },
      "execution_count": null,
      "outputs": [
        {
          "output_type": "stream",
          "name": "stdout",
          "text": [
            "8\n",
            "2 + 1i\n",
            "3 + 5i\n",
            "5 + 6i\n",
            "-1 - 4i\n"
          ]
        }
      ]
    },
    {
      "cell_type": "markdown",
      "source": [
        "TASK3"
      ],
      "metadata": {
        "id": "Sg-dex4ckjRJ"
      }
    },
    {
      "cell_type": "code",
      "source": [
        "class Account: \n",
        "    def __init__(self, balance):\n",
        "        self._balance = balance\n",
        "        \n",
        "    def getBalance(self):\n",
        "        return self._balance\n",
        "    \n",
        "class CheckingAccount(Account):\n",
        "  numberOfAccount=0\n",
        "  def __init__(self,balance=0):\n",
        "    CheckingAccount.numberOfAccount +=1\n",
        "    super().__init__(balance)\n",
        "  \n",
        "  def __str__(self): \n",
        "    return f\"Account Balance: {self.getBalance()}\"\n",
        "    \n",
        "print('Number of Checking Accounts: ', CheckingAccount.numberOfAccount)\n",
        "print(CheckingAccount())\n",
        "print(CheckingAccount(100.00))\n",
        "print(CheckingAccount(200.00))\n",
        "print('Number of Checking Accounts: ', CheckingAccount.numberOfAccount)"
      ],
      "metadata": {
        "colab": {
          "base_uri": "https://localhost:8080/"
        },
        "id": "DhPKOZh8fGje",
        "outputId": "7e85f115-eaec-46a8-8834-8ff3c68a6bfa"
      },
      "execution_count": null,
      "outputs": [
        {
          "output_type": "stream",
          "name": "stdout",
          "text": [
            "Number of Checking Accounts:  0\n",
            "Account Balance: 0\n",
            "Account Balance: 100.0\n",
            "Account Balance: 200.0\n",
            "Number of Checking Accounts:  3\n"
          ]
        }
      ]
    },
    {
      "cell_type": "markdown",
      "source": [
        "TASK4"
      ],
      "metadata": {
        "id": "w0nC6FX6lDKR"
      }
    },
    {
      "cell_type": "code",
      "source": [
        "class Fruit:\n",
        "    def __init__(self, formalin=False, name=''):\n",
        "        self.__formalin = formalin\n",
        "        self.name = name\n",
        "    \n",
        "    def getName(self):\n",
        "        return self.name\n",
        "    \n",
        "    def hasFormalin(self):\n",
        "        return self.__formalin\n",
        "\n",
        "class Mango(Fruit):\n",
        "  def __init__(self,formalin=True,name=\"Mango\"):\n",
        "    super().__init__(formalin,name)\n",
        "  \n",
        "  def __str__(self):\n",
        "    if self.hasFormalin():\n",
        "      return f\"{self.name}s are good for you\"\n",
        "    else:\n",
        "      return f\"{self.name}s are bad for you\"\n",
        "\n",
        "\n",
        "    \n",
        "class testFruit:\n",
        "    def test(self, f):\n",
        "        print('----Printing Detail----')\n",
        "        if f.hasFormalin():\n",
        "            print('Do not eat the',f.getName(),'.')\n",
        "            print(f)\n",
        "        else:\n",
        "            print('Eat the',f.getName(),'.')\n",
        "            print(f)\n",
        "        \n",
        "m = Mango()\n",
        "j = Jackfruit()\n",
        "t1 = testFruit()\n",
        "t1.test(m)\n",
        "t1.test(j)"
      ],
      "metadata": {
        "colab": {
          "base_uri": "https://localhost:8080/"
        },
        "id": "MhjQkgzDkzeo",
        "outputId": "ad43bcea-2858-4c6c-d451-eec15e2931f1"
      },
      "execution_count": null,
      "outputs": [
        {
          "output_type": "stream",
          "name": "stdout",
          "text": [
            "----Printing Detail----\n",
            "Do not eat the Mango .\n",
            "Mangos are good for you\n",
            "----Printing Detail----\n",
            "Eat the Jackfruit .\n",
            "Jackfruit are bad for you\n"
          ]
        }
      ]
    },
    {
      "cell_type": "markdown",
      "source": [
        "TASK5"
      ],
      "metadata": {
        "id": "JX08QxSFlrZt"
      }
    },
    {
      "cell_type": "code",
      "source": [
        "class Exam:\n",
        "    def __init__(self,marks):\n",
        "        self.marks = marks\n",
        "        self.time = 60\n",
        "        \n",
        "    def examSyllabus(self):\n",
        "        return \"Maths , English\"\n",
        "    def examParts(self):\n",
        "        return \"Part 1 - Maths\\nPart 2 - English\\n\"\n",
        "    \n",
        "  \n",
        "class ScienceExam(Exam):\n",
        "    def __init__(self,marks,time,*subjects):\n",
        "        self.mylist = super().examSyllabus().split(' , ')\n",
        "        self.subjects = list(subjects)\n",
        "        super().__init__(marks)\n",
        "        self.time = time\n",
        "        self.mylist += list(subjects)\n",
        "        # print(self.subjects)\n",
        "  \n",
        "    def __str__(self):\n",
        "        return f\"Marks: {self.marks} Time: {self.time} Number of Parts: {len(self.mylist)}\"\n",
        "  \n",
        "    def examSyllabus(self):\n",
        "        mystr = super().examSyllabus()\n",
        "        for i in self.subjects:\n",
        "            mystr += ', ' + i\n",
        "        return mystr\n",
        "    \n",
        "    def examParts(self):\n",
        "        count = 3\n",
        "        mystr = super().examParts()\n",
        "        for i in self.subjects:\n",
        "            mystr += f\"Part {count} - {i}\\n\"\n",
        "            count += 1\n",
        "        return mystr[:-2] \n",
        "\n",
        "    \n",
        "engineering = ScienceExam(100,90,\"Physics\",\"HigherMaths\")\n",
        "print(engineering)\n",
        "print('----------------------------------')\n",
        "print(engineering.examSyllabus())\n",
        "print(engineering.examParts())\n",
        "print('==================================') \n",
        "architecture = ScienceExam(100,120,\"Physics\",\"HigherMaths\",\"Drawing\")\n",
        "print(architecture)\n",
        "print('----------------------------------')\n",
        "print(architecture.examSyllabus())\n",
        "print(architecture.examParts())"
      ],
      "metadata": {
        "colab": {
          "base_uri": "https://localhost:8080/"
        },
        "id": "cKxPn7wVloOo",
        "outputId": "d862d54f-8954-40fc-8009-78bd4699e632"
      },
      "execution_count": null,
      "outputs": [
        {
          "output_type": "stream",
          "name": "stdout",
          "text": [
            "Marks: 100 Time: 90 Number of Parts: 4\n",
            "----------------------------------\n",
            "Maths , English, Physics, HigherMaths\n",
            "Part 1 - Maths\n",
            "Part 2 - English\n",
            "Part 3 - Physics\n",
            "Part 4 - HigherMath\n",
            "==================================\n",
            "Marks: 100 Time: 120 Number of Parts: 5\n",
            "----------------------------------\n",
            "Maths , English, Physics, HigherMaths, Drawing\n",
            "Part 1 - Maths\n",
            "Part 2 - English\n",
            "Part 3 - Physics\n",
            "Part 4 - HigherMaths\n",
            "Part 5 - Drawin\n"
          ]
        }
      ]
    },
    {
      "cell_type": "markdown",
      "source": [
        "TASK6"
      ],
      "metadata": {
        "id": "zR6qyhvxpGBl"
      }
    },
    {
      "cell_type": "code",
      "source": [
        "class Shape3D:\n",
        "\n",
        "  pi = 3.14159\n",
        "  def __init__(self, name = 'Default', radius = 0):\n",
        "    self._area = 0\n",
        "    self._name = name\n",
        "    self._height = 'No need'\n",
        "    self._radius = radius   \n",
        "\n",
        "  def calc_surface_area(self):\n",
        "    return 2 * Shape3D.pi * self._radius\n",
        "\n",
        "  def __str__(self):\n",
        "      return \"Radius: \"+str(self._radius)\n",
        "  \n",
        "class Sphere(Shape3D):\n",
        "  def __init__(self,name,radius):\n",
        "    print(f\"Shape name: {name}, Area Formula: 4 * pi * r * r\")\n",
        "    super().__init__(name,radius)\n",
        "  \n",
        "  def calc_surface_area(self):\n",
        "    self.area = super().calc_surface_area()*2*self._radius\n",
        "  \n",
        "  def __str__(self):\n",
        "    final = super().__str__() + f\", Height: {self._height}\\nArea: {self.area}\"\n",
        "    return final\n",
        "\n",
        "\n",
        "\n",
        "class Cylinder(Shape3D):\n",
        "  def __init__(self,name,radius,height):\n",
        "    print(f\"Shape name: {name}, Area Formula: 2 * pi * r * (r + h)\")\n",
        "    super().__init__(name,radius)\n",
        "    self._height = height\n",
        "  \n",
        "  def calc_surface_area(self):\n",
        "    self.area = super().calc_surface_area() * (self._radius + self._height)\n",
        "  \n",
        "  def __str__(self):\n",
        "    final = super().__str__() + f\", Height: {self._height}\\nArea: {self.area}\"\n",
        "    return final\n",
        "\n",
        "sph = Sphere('Sphere', 5)\n",
        "print('----------------------------------')\n",
        "sph.calc_surface_area()\n",
        "print(sph)\n",
        "print('==================================')\n",
        "cyl = Cylinder('Cylinder', 5, 10)\n",
        "print('----------------------------------')\n",
        "cyl.calc_surface_area()\n",
        "print(cyl)\n"
      ],
      "metadata": {
        "colab": {
          "base_uri": "https://localhost:8080/"
        },
        "id": "qvbtU52cmU_l",
        "outputId": "5d9780c4-ad92-43e6-d5da-40c27f5ad1d5"
      },
      "execution_count": null,
      "outputs": [
        {
          "output_type": "stream",
          "name": "stdout",
          "text": [
            "Shape name: Sphere, Area Formula: 4 * pi * r * r\n",
            "----------------------------------\n",
            "Radius: 5, Height: No need\n",
            "Area: 314.159\n",
            "==================================\n",
            "Shape name: Cylinder, Area Formula: 2 * pi * r * (r + h)\n",
            "----------------------------------\n",
            "Radius: 5, Height: 10\n",
            "Area: 471.2385\n"
          ]
        }
      ]
    },
    {
      "cell_type": "markdown",
      "source": [
        "TASK7"
      ],
      "metadata": {
        "id": "3IlwSKh6rXs4"
      }
    },
    {
      "cell_type": "code",
      "source": [
        "class PokemonBasic:\n",
        "\n",
        "  def __init__(self, name = 'Default', hp = 0, weakness = 'None', type = 'Unknown'):\n",
        "    self.name = name\n",
        "    self.hit_point = hp\n",
        "    self.weakness = weakness\n",
        "    self.type = type\n",
        "\n",
        "  def get_type(self):\n",
        "    return 'Main type: ' + self.type\n",
        "\n",
        "  def get_move(self):\n",
        "    return 'Basic move: ' + 'Quick Attack'\n",
        "\n",
        "  def __str__(self):\n",
        "    return \"Name: \" + self.name + \", HP: \" + str(self.hit_point) + \", Weakness: \" + self.weakness\n",
        "\n",
        "class PokemonExtra(PokemonBasic):\n",
        "  def __init__(self,name=None,hp=None,weakness=None,main_type=None,secondary=False,others=[]):\n",
        "    self.others = others\n",
        "    self.secondary = secondary\n",
        "    if name==None:\n",
        "      pass\n",
        "    else:\n",
        "      super().__init__(name,hp,weakness,main_type)\n",
        "    self.mystr = ''\n",
        "    if others != []:\n",
        "      for i in range(len(others)):\n",
        "        if i == len(others) -1:\n",
        "          self.mystr += others[i]\n",
        "        else:\n",
        "          self.mystr += others[i] + ', '\n",
        "\n",
        "  \n",
        "  def get_type(self):\n",
        "    if self.secondary!=False:\n",
        "      mystr = super().get_type() + f\", Secondary type: {self.secondary}\"\n",
        "      return mystr\n",
        "    else:\n",
        "      return super().get_type()\n",
        "    \n",
        "\n",
        "  def get_move(self):\n",
        "    if self.others !=[]:\n",
        "      mystr = super().get_move() + f'\\nOther move: {self.mystr}'\n",
        "      return mystr\n",
        "    else:\n",
        "      return super().get_move()\n",
        "    \n",
        "\n",
        "print('\\n------------Basic Info:--------------')\n",
        "pk = PokemonBasic()\n",
        "print(pk)\n",
        "print(pk.get_type())\n",
        "print(pk.get_move())\n",
        "\n",
        "print('\\n------------Pokemon 1 Info:-------------')\n",
        "charmander = PokemonExtra('Charmander', 39, 'Water', 'Fire')\n",
        "print(charmander)\n",
        "print(charmander.get_type())\n",
        "print(charmander.get_move())\n",
        "\n",
        "print('\\n------------Pokemon 2 Info:-------------')\n",
        "charizard = PokemonExtra('Charizard', 78, 'Water', 'Fire', 'Flying', ('Fire Spin', 'Fire Blaze'))\n",
        "print(charizard)\n",
        "print(charizard.get_type())\n",
        "print(charizard.get_move())\n"
      ],
      "metadata": {
        "colab": {
          "base_uri": "https://localhost:8080/"
        },
        "id": "59VMEGUqqz1S",
        "outputId": "e877d6a6-e537-4b7b-975b-368459799eeb"
      },
      "execution_count": null,
      "outputs": [
        {
          "output_type": "stream",
          "name": "stdout",
          "text": [
            "\n",
            "------------Basic Info:--------------\n",
            "Name: Default, HP: 0, Weakness: None\n",
            "Main type: Unknown\n",
            "Basic move: Quick Attack\n",
            "\n",
            "------------Pokemon 1 Info:-------------\n",
            "Name: Charmander, HP: 39, Weakness: Water\n",
            "Main type: Fire\n",
            "Basic move: Quick Attack\n",
            "\n",
            "------------Pokemon 2 Info:-------------\n",
            "Name: Charizard, HP: 78, Weakness: Water\n",
            "Main type: Fire, Secondary type: Flying\n",
            "Basic move: Quick Attack\n",
            "Other move: Fire Spin, Fire Blaze\n"
          ]
        }
      ]
    },
    {
      "cell_type": "markdown",
      "source": [
        "TASK8"
      ],
      "metadata": {
        "id": "NQ_Fb_wjzNMt"
      }
    },
    {
      "cell_type": "code",
      "source": [
        "class Team:\n",
        "\n",
        "    def __init__(self, name):\n",
        "        self.name = \"default\"\n",
        "        self.total_player = 5\n",
        "    def info(self):\n",
        "        print(\"We love sports\")\n",
        "# Write your code here.\n",
        "\n",
        "class FootBallTeam(Team):\n",
        "    def __init__(self,name,player=11):\n",
        "      self.name = name\n",
        "\n",
        "      self.total_player = player\n",
        "    \n",
        "    def info(self):\n",
        "      mystr = f'Our name is {self.name}\\nWe play Football'\n",
        "      print(mystr)\n",
        "      super().info()\n",
        "\n",
        "\n",
        "class CricketTeam(Team):\n",
        "    def __init__(self,name,player=11):\n",
        "      super().__init__(name)\n",
        "      self.total_player = player\n",
        "    \n",
        "    def info(self):\n",
        "      mystr = f'Our name is {self.name}\\nWe play Cricket'\n",
        "      print(mystr)\n",
        "      super().info()\n",
        "\n",
        "\n",
        "class Team_test:\n",
        "    def check(self, tm):\n",
        "        print(\"=========================\")\n",
        "        print(\"Total Player: \", tm.total_player)\n",
        "        tm.info()\n",
        "\n",
        "f = FootBallTeam(\"Brazil\")\n",
        "c = CricketTeam(\"Bangladesh\")\n",
        "test = Team_test()\n",
        "test.check(f)\n",
        "test.check(c)\n"
      ],
      "metadata": {
        "colab": {
          "base_uri": "https://localhost:8080/"
        },
        "id": "QCezgRjWr80O",
        "outputId": "05866fe3-a937-4e6e-cf08-feacfc534f23"
      },
      "execution_count": null,
      "outputs": [
        {
          "output_type": "stream",
          "name": "stdout",
          "text": [
            "=========================\n",
            "Total Player:  11\n",
            "Our name is Brazil\n",
            "We play Football\n",
            "We love sports\n",
            "=========================\n",
            "Total Player:  11\n",
            "Our name is default\n",
            "We play Cricket\n",
            "We love sports\n"
          ]
        }
      ]
    },
    {
      "cell_type": "markdown",
      "source": [
        "TASK9"
      ],
      "metadata": {
        "id": "wwu23Lmt2EUx"
      }
    },
    {
      "cell_type": "code",
      "source": [
        "class Pokemon:\n",
        "\n",
        "    def __init__(self, p):\n",
        "        self.pokemon = p\n",
        "        self.pokemon_type = \"Needs to be set\"\n",
        "        self.pokemon_weakness = \"Needs to be set\"\n",
        "    def kind(self):\n",
        "        return self.pokemon_type     \n",
        "    def weakness(self):\n",
        "        return self.pokemon_weakness \n",
        "    def what_am_i(self):\n",
        "        print(\"I am a Pokemon.\")\n",
        "\n",
        "class Pikachu(Pokemon):\n",
        "  def __init__(self):\n",
        "    super().__init__(\"Pikachu\")\n",
        "    self.pokemon_type = \"Electric\"\n",
        "    self.pokemon_weakness = 'Ground'\n",
        "  \n",
        "  def what_am_i(self):\n",
        "    super().what_am_i()\n",
        "    print(f\"I am {self.pokemon}.\")\n",
        "\n",
        "class Charmander(Pokemon):\n",
        "  def __init__(self):\n",
        "    super().__init__(\"Charmander\")\n",
        "    self.pokemon_type = 'Fire'\n",
        "    self.pokemon_weakness = 'Water, Ground and Rock'\n",
        "  \n",
        "  def what_am_i(self):\n",
        "    super().what_am_i()\n",
        "    print(f\"I am {self.pokemon}.\")\n",
        "\n",
        "\n",
        "pk1 = Pikachu()\n",
        "print(\"Pokemon:\", pk1.pokemon)\n",
        "print(\"Type:\", pk1.kind())\n",
        "print(\"Weakness:\", pk1.weakness())\n",
        "pk1.what_am_i()\n",
        "print(\"========================\")\n",
        "c1 = Charmander()\n",
        "print(\"Pokemon:\", c1.pokemon)\n",
        "print(\"Type:\", c1.kind())\n",
        "print(\"Weakness:\", c1.weakness())\n",
        "c1.what_am_i()\n"
      ],
      "metadata": {
        "colab": {
          "base_uri": "https://localhost:8080/"
        },
        "id": "K3O1t_tk0ye4",
        "outputId": "36db81e3-140d-4705-e8d3-b8bd729fa111"
      },
      "execution_count": null,
      "outputs": [
        {
          "output_type": "stream",
          "name": "stdout",
          "text": [
            "Pokemon: Pikachu\n",
            "Type: Electric\n",
            "Weakness: Ground\n",
            "I am a Pokemon.\n",
            "I am Pikachu.\n",
            "========================\n",
            "Pokemon: Charmander\n",
            "Type: Fire\n",
            "Weakness: Water, Ground and Rock\n",
            "I am a Pokemon.\n",
            "I am Charmander.\n"
          ]
        }
      ]
    },
    {
      "cell_type": "markdown",
      "source": [
        "TASK10"
      ],
      "metadata": {
        "id": "913NZX_25T8j"
      }
    },
    {
      "cell_type": "code",
      "source": [
        "class Department:\n",
        "    def __init__(self, s):\n",
        "        self.semester = s\n",
        "        self.name = \"Default\"\n",
        "        self.id = -1\n",
        "        \n",
        "    def student_info(self):\n",
        "        print(\"Name:\", self.name)\n",
        "        print(\"ID:\", self.id) \n",
        "        \n",
        "    def courses(self, c1, c2, c3):\n",
        "        print(\"No courses Approved yet!\")\n",
        "\n",
        "class CSE(Department):\n",
        "  def __init__(self,name,id,semester):\n",
        "    super().__init__(semester)\n",
        "    self.name = name\n",
        "    self.id = id\n",
        "\n",
        "  \n",
        "  def courses(self,*courses):\n",
        "    print(f\"Courses Approved to this CSE student in {self.semester} semester :\")\n",
        "    for i in courses:\n",
        "      print(i)\n",
        "\n",
        "\n",
        "class EEE(Department):\n",
        "  def __init__(self,name,id,semester):\n",
        "    super().__init__(semester)\n",
        "    self.name =  name\n",
        "    self.id = id \n",
        "  \n",
        "  def courses(self,*courses):\n",
        "    print(f\"Courses Approved to this EEE student in {self.semester} semester :\")\n",
        "    for i in courses:\n",
        "      print(i)\n",
        "\n",
        "\n",
        "\n",
        "s1 = CSE(\"Rahim\", 16101328,\"Spring2016\")\n",
        "s1.student_info()\n",
        "s1.courses(\"CSE110\", \"MAT110\", \"ENG101\")\n",
        "print(\"==================\")\n",
        "s2 = EEE(\"Tanzim\", 18101326, \"Spring2018\")\n",
        "s2.student_info()\n",
        "s2.courses(\"Mat110\", \"PHY111\", \"ENG101\")\n",
        "print(\"==================\")\n",
        "s3 = CSE(\"Rudana\", 18101326, \"Fall2017\")\n",
        "s3.student_info()\n",
        "s3.courses(\"CSE111\", \"PHY101\", \"MAT120\")\n",
        "print(\"==================\")\n",
        "s4 = EEE(\"Zainab\", 19201623, \"Summer2019\")\n",
        "s4.student_info()\n",
        "s4.courses(\"EEE201\", \"PHY112\", \"MAT120\")\n"
      ],
      "metadata": {
        "colab": {
          "base_uri": "https://localhost:8080/"
        },
        "id": "3xw_NHAL2_cW",
        "outputId": "5ced9775-6fe1-4e7c-b5f0-16f1c0f88a23"
      },
      "execution_count": null,
      "outputs": [
        {
          "output_type": "stream",
          "name": "stdout",
          "text": [
            "Name: Rahim\n",
            "ID: 16101328\n",
            "Courses Approved to this CSE student in Spring2016 semester :\n",
            "CSE110\n",
            "MAT110\n",
            "ENG101\n",
            "==================\n",
            "Name: Tanzim\n",
            "ID: 18101326\n",
            "Courses Approved to this EEE student in Spring2018 semester :\n",
            "Mat110\n",
            "PHY111\n",
            "ENG101\n",
            "==================\n",
            "Name: Rudana\n",
            "ID: 18101326\n",
            "Courses Approved to this CSE student in Fall2017 semester :\n",
            "CSE111\n",
            "PHY101\n",
            "MAT120\n",
            "==================\n",
            "Name: Zainab\n",
            "ID: 19201623\n",
            "Courses Approved to this EEE student in Summer2019 semester :\n",
            "EEE201\n",
            "PHY112\n",
            "MAT120\n"
          ]
        }
      ]
    }
  ]
}