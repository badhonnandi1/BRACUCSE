{
 "cells": [
  {
   "cell_type": "code",
   "execution_count": 4,
   "id": "30bbd147",
   "metadata": {},
   "outputs": [
    {
     "name": "stdout",
     "output_type": "stream",
     "text": [
      "0.5\n"
     ]
    }
   ],
   "source": [
    "#task1\n",
    "def calculator(nominator,denominator):\n",
    "    if denominator==0:\n",
    "        return 0 \n",
    "    else:\n",
    "        var = nominator/ denominator\n",
    "        final = var - var//1\n",
    "        if final==0:\n",
    "            return 0\n",
    "        else:\n",
    "            return final\n",
    "    \n",
    "    \n",
    "print(calculator(5, 2))"
   ]
  },
  {
   "cell_type": "code",
   "execution_count": 12,
   "id": "d2646ee4",
   "metadata": {},
   "outputs": [
    {
     "name": "stdout",
     "output_type": "stream",
     "text": [
      "Score is 31.3. You are Obese\n"
     ]
    }
   ],
   "source": [
    "#task2\n",
    "def BMI(height, weight):\n",
    "    bmi = weight/(height/100)**2\n",
    "    condition = ''\n",
    "    if bmi<18.5:\n",
    "        condition = 'Underweight'\n",
    "    elif 18.5<=bmi<=24.9:\n",
    "        condition = 'Normal'\n",
    "    elif 25<=bmi<=30:\n",
    "        condition = 'Overweight'\n",
    "    else:\n",
    "        condition = 'Obese'\n",
    "    return f\"Score is {bmi:.1f}. You are {condition}\"\n",
    "    \n",
    "print(BMI(175,96))"
   ]
  },
  {
   "cell_type": "code",
   "execution_count": 9,
   "id": "18a75253",
   "metadata": {},
   "outputs": [
    {
     "name": "stdout",
     "output_type": "stream",
     "text": [
      "20\n"
     ]
    }
   ],
   "source": [
    "#task3\n",
    "def calculation(minimum,maximum,divisor):\n",
    "    sum = 0\n",
    "    for i in range(minimum,maximum):\n",
    "        if i%divisor==0:\n",
    "            sum += i\n",
    "    return sum\n",
    "    \n",
    "print(calculation(0, 10, 2))"
   ]
  },
  {
   "cell_type": "code",
   "execution_count": 11,
   "id": "ab6a593f",
   "metadata": {},
   "outputs": [
    {
     "name": "stdout",
     "output_type": "stream",
     "text": [
      "243.6\n"
     ]
    }
   ],
   "source": [
    "#task4\n",
    "def foodpanda(food,location='Mohakhali'):\n",
    "    total = 0\n",
    "    mydict = {\n",
    "        'BBQ Chicken Cheese Burger':250,\n",
    "        'Beef Burger':170,\n",
    "        'Naga Drums':200\n",
    "    }\n",
    "    total += mydict[food] + (mydict[food]*8)/100\n",
    "    if total !=0:\n",
    "        if location =='Mohakhali':\n",
    "            total += 40\n",
    "        else:\n",
    "            total += 60\n",
    "    return total\n",
    "\n",
    "print(foodpanda('Beef Burger','Dhanmondi'))"
   ]
  },
  {
   "cell_type": "code",
   "execution_count": 16,
   "id": "8d612d7f",
   "metadata": {},
   "outputs": [
    {
     "name": "stdout",
     "output_type": "stream",
     "text": [
      "Unchanged: bob@sheba.xyz\n"
     ]
    }
   ],
   "source": [
    "#task5\n",
    "def replace_domain(email,new,old=None):\n",
    "    index = 0\n",
    "    for i in range(len(email)):\n",
    "        if email[i-1] =='@':\n",
    "            index = i\n",
    "    final = email[:index] + new\n",
    "    if email == final:\n",
    "        return f'Unchanged: {final}'\n",
    "    else:\n",
    "        return f\"Changed: {final}\"\n",
    "\n",
    "\n",
    "\n",
    "print(replace_domain('bob@sheba.xyz', 'sheba.xyz'))"
   ]
  },
  {
   "cell_type": "code",
   "execution_count": 22,
   "id": "d10f5b1f",
   "metadata": {},
   "outputs": [
    {
     "name": "stdout",
     "output_type": "stream",
     "text": [
      "Vowels: e, e, o. Total number of vowels: 3\n"
     ]
    }
   ],
   "source": [
    "#task6\n",
    "def vowel_finder(sentence):\n",
    "    mystr = ''\n",
    "    count = 0\n",
    "    for i in sentence:\n",
    "        if i in 'AEIOUaeiou':\n",
    "            mystr += i +', '\n",
    "            count += 1\n",
    "    if count>0:\n",
    "        return f\"Vowels: {mystr[:-2]}. Total number of vowels: {count}\"\n",
    "    else:\n",
    "        return 'No vowels in the name'\n",
    "print(vowel_finder('Steve Jobs'))"
   ]
  },
  {
   "cell_type": "code",
   "execution_count": 27,
   "id": "360a719c",
   "metadata": {},
   "outputs": [
    {
     "name": "stdout",
     "output_type": "stream",
     "text": [
      "Palindrome\n"
     ]
    }
   ],
   "source": [
    "#task7\n",
    "def palindrome_checker(sentence):\n",
    "    mystr = ''\n",
    "    for i in sentence:\n",
    "        if i!=' ':\n",
    "            mystr += i\n",
    "    new = ''\n",
    "    for i in range(-1,len(mystr)*(-1)-1,-1):\n",
    "        new += mystr[i]\n",
    "    if new == mystr:\n",
    "        return \"Palindrome\"\n",
    "    else:\n",
    "        return 'Not a palindrome'\n",
    "print(palindrome_checker('madam'))"
   ]
  },
  {
   "cell_type": "code",
   "execution_count": 35,
   "id": "2fa3d5cf",
   "metadata": {},
   "outputs": [
    {
     "name": "stdout",
     "output_type": "stream",
     "text": [
      "4320\n",
      "11 years, 10 months and 5 days\n"
     ]
    }
   ],
   "source": [
    "#task8\n",
    "def counter(num):\n",
    "    year = num //365\n",
    "    rem = num % 365\n",
    "    month = rem //30\n",
    "    days = rem % 30\n",
    "    return f\"{year} years, {month} months and {days} days\"\n",
    "    \n",
    "total = int(input())\n",
    "print(counter(total))"
   ]
  },
  {
   "cell_type": "code",
   "execution_count": 38,
   "id": "0213b06e",
   "metadata": {},
   "outputs": [
    {
     "name": "stdout",
     "output_type": "stream",
     "text": [
      "My favourite animal is a dog. a dog has sharp teeth so that it can eat flesh very easily. do you know my pet dog’s name? i love my pet very much.\n"
     ]
    }
   ],
   "source": [
    "#task9\n",
    "def grammerly(sentence):\n",
    "    mylist = sentence.split(' ')\n",
    "    mylist[0] = mylist[0][0].upper() + mylist[0][1:]\n",
    "    for i in range(1,len(mylist)):\n",
    "        if mylist[i] =='i':\n",
    "            mylist[i] =='I'\n",
    "        elif mylist[i-1] in '!?.':\n",
    "            mylist[i] = mylist[i][0].upper() + mylist[i][1:]\n",
    "    final = ''\n",
    "    for i in mylist:\n",
    "        final += i +' '\n",
    "    return final[:-1]\n",
    "\n",
    "\n",
    "\n",
    "print(grammerly('my favourite animal is a dog. a dog has sharp teeth so that it can eat flesh very easily. do you know my pet dog’s name? i love my pet very much.'))"
   ]
  },
  {
   "cell_type": "code",
   "execution_count": null,
   "id": "097f71eb",
   "metadata": {},
   "outputs": [],
   "source": []
  }
 ],
 "metadata": {
  "kernelspec": {
   "display_name": "Python 3 (ipykernel)",
   "language": "python",
   "name": "python3"
  },
  "language_info": {
   "codemirror_mode": {
    "name": "ipython",
    "version": 3
   },
   "file_extension": ".py",
   "mimetype": "text/x-python",
   "name": "python",
   "nbconvert_exporter": "python",
   "pygments_lexer": "ipython3",
   "version": "3.9.12"
  }
 },
 "nbformat": 4,
 "nbformat_minor": 5
}
