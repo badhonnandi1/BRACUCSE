{
  "cells": [
    {
      "cell_type": "code",
      "execution_count": null,
      "id": "05540900",
      "metadata": {
        "colab": {
          "base_uri": "https://localhost:8080/"
        },
        "id": "05540900",
        "outputId": "741a179f-eeb0-4562-c6e1-8f38ea7982bf"
      },
      "outputs": [
        {
          "output_type": "stream",
          "name": "stdout",
          "text": [
            "BaNaNa\n",
            "banana\n"
          ]
        }
      ],
      "source": [
        "#task1-string\n",
        "user = input()\n",
        "upper = 0\n",
        "lower = 0\n",
        "for i in user:\n",
        "    if 65<=ord(i)<=90:\n",
        "        upper += 1\n",
        "    elif 97<=ord(i)<=122:\n",
        "        lower += 1\n",
        "if upper>lower:\n",
        "    mystr = ''\n",
        "    for i in user:\n",
        "        if 97<=ord(i)<=122:\n",
        "            mystr += chr(ord(i)-32)\n",
        "        else:\n",
        "            mystr += i\n",
        "else:\n",
        "    mystr =''\n",
        "    for i in user:\n",
        "        if 65<=ord(i)<=90:\n",
        "            mystr += chr(ord(i)+32)\n",
        "        else:\n",
        "            mystr += i\n",
        "print(mystr)"
      ]
    },
    {
      "cell_type": "code",
      "execution_count": null,
      "id": "11620029",
      "metadata": {
        "colab": {
          "base_uri": "https://localhost:8080/"
        },
        "id": "11620029",
        "outputId": "09459677-384a-45e3-cd54-0e75244e1b97"
      },
      "outputs": [
        {
          "output_type": "stream",
          "name": "stdout",
          "text": [
            "Hello\n",
            "WORD\n"
          ]
        }
      ],
      "source": [
        "#task2-string\n",
        "user = input()\n",
        "digit = 0\n",
        "word  = 0\n",
        "for i in user:\n",
        "    if 48<=ord(i)<=57:\n",
        "        digit += 1\n",
        "    elif 65<=ord(i)<=90 or 97<=ord(i)<=122:\n",
        "        word += 1\n",
        "if digit !=0 and word !=0:\n",
        "    print('MIXED')\n",
        "elif digit !=0 and word==0:\n",
        "    print('NUMBER')\n",
        "else:\n",
        "    print('WORD')"
      ]
    },
    {
      "cell_type": "code",
      "execution_count": null,
      "id": "95aa012b",
      "metadata": {
        "colab": {
          "base_uri": "https://localhost:8080/"
        },
        "id": "95aa012b",
        "outputId": "9531e5d3-25f9-45c6-8543-a4b01ff38810"
      },
      "outputs": [
        {
          "output_type": "stream",
          "name": "stdout",
          "text": [
            "coDIng\n",
            "BLANK\n"
          ]
        }
      ],
      "source": [
        "#task3-string\n",
        "user = input()\n",
        "index1= 0\n",
        "index2= 0\n",
        "for i in range(len(user)):\n",
        "    if 65<=ord(user[i])<=90:\n",
        "        index1 = i\n",
        "        break\n",
        "for i in range(index1+1,len(user)):\n",
        "    if 65<=ord(user[i])<=90:\n",
        "        index2 = i\n",
        "        break\n",
        "mystr = user[index1+1:index2]\n",
        "if len(mystr)>0:\n",
        "    print(mystr)\n",
        "else:\n",
        "    print(\"BLANK\")"
      ]
    },
    {
      "cell_type": "code",
      "execution_count": null,
      "id": "a5061ea1",
      "metadata": {
        "colab": {
          "base_uri": "https://localhost:8080/"
        },
        "id": "a5061ea1",
        "outputId": "e8905187-0458-4afe-9d09-88b8e2655a96"
      },
      "outputs": [
        {
          "output_type": "stream",
          "name": "stdout",
          "text": [
            "harry, hermione\n",
            "hrrhr\n"
          ]
        }
      ],
      "source": [
        "#task4-string\n",
        "user = input()\n",
        "index = 0\n",
        "for i in range(len(user)):\n",
        "    if user[i]==',':\n",
        "        index = i\n",
        "        break\n",
        "user1= user[:index]\n",
        "user2 = user[index+2:]\n",
        "mystr = ''\n",
        "for i in user1:\n",
        "    if i in user2:\n",
        "        mystr += i\n",
        "for i in user2:\n",
        "    if i in user1:\n",
        "        mystr += i\n",
        "print(mystr)"
      ]
    },
    {
      "cell_type": "code",
      "execution_count": null,
      "id": "5d4e5d08",
      "metadata": {
        "colab": {
          "base_uri": "https://localhost:8080/"
        },
        "id": "5d4e5d08",
        "outputId": "c07c3c0b-7436-4922-d172-f18cf772b6af"
      },
      "outputs": [
        {
          "output_type": "stream",
          "name": "stdout",
          "text": [
            "OhMyBR@CU20\n",
            "OK\n"
          ]
        }
      ],
      "source": [
        "#task5-string\n",
        "user = input()\n",
        "digit = 0\n",
        "special = 0\n",
        "upper = 0\n",
        "lower = 0\n",
        "for i in user:\n",
        "    if 48<=ord(i)<=57:\n",
        "        digit += 1\n",
        "    elif 65<=ord(i)<=90:\n",
        "        upper += 1\n",
        "    elif 97<=ord(i)<=122:\n",
        "        lower += 1\n",
        "    elif 32<=ord(i)<=127:\n",
        "        special += 1\n",
        "if digit>0 and upper>0 and lower>0 and special>0:\n",
        "    print('OK')\n",
        "else:\n",
        "    mystr =''\n",
        "    if lower==0:\n",
        "        mystr += 'Lowercase character missing, '\n",
        "    if upper==0:\n",
        "        mystr += 'Uppercase character missing, '\n",
        "    if digit==0:\n",
        "        mystr += 'Digit missing, '\n",
        "    if special==0:\n",
        "        mystr += 'special character missing, '\n",
        "    print(mystr[:-2])\n",
        "    "
      ]
    },
    {
      "cell_type": "code",
      "execution_count": null,
      "id": "09ffbe4d",
      "metadata": {
        "colab": {
          "base_uri": "https://localhost:8080/"
        },
        "id": "09ffbe4d",
        "outputId": "fbbb9a5f-d14f-44fd-f749-5b80bc28f4c1"
      },
      "outputs": [
        {
          "output_type": "stream",
          "name": "stdout",
          "text": [
            "10\n",
            "20\n",
            "20\n",
            "30\n",
            "10\n",
            "50\n",
            "90\n",
            "STOP\n",
            "10 - 2 times\n",
            "20 - 2 times\n",
            "30 - 1 times\n",
            "50 - 1 times\n",
            "90 - 1 times\n"
          ]
        }
      ],
      "source": [
        "#task1-list\n",
        "mylist = []\n",
        "while True:\n",
        "    user = input()\n",
        "    if user=='STOP':\n",
        "        break\n",
        "    else:\n",
        "        mylist.append(int(user))\n",
        "newlist = []\n",
        "for i in mylist:\n",
        "    if i not in newlist:\n",
        "        newlist.append(i)\n",
        "for i in newlist:\n",
        "    print(i,'-',mylist.count(i),'times')"
      ]
    },
    {
      "cell_type": "code",
      "execution_count": null,
      "id": "a5faffa4",
      "metadata": {
        "colab": {
          "base_uri": "https://localhost:8080/"
        },
        "id": "a5faffa4",
        "outputId": "c12a0274-214d-46a7-d83b-52e99d243642"
      },
      "outputs": [
        {
          "output_type": "stream",
          "name": "stdout",
          "text": [
            "4\n",
            "1 2 3\n",
            "4 5 6\n",
            "10 11 12\n",
            "7 8 9\n",
            "33\n",
            "[10, 11, 12]\n"
          ]
        }
      ],
      "source": [
        "#task2-list\n",
        "mylist = []\n",
        "num = int(input())\n",
        "for i in range(num):\n",
        "    newlist = []\n",
        "    user = input().split()\n",
        "    for i in user:\n",
        "        newlist.append(int(i))\n",
        "    mylist.append(newlist)\n",
        "large = 0\n",
        "index = 0\n",
        "for i in range(len(mylist)):\n",
        "    sum = 0\n",
        "    for j in mylist[i]:\n",
        "        sum+=j\n",
        "    if sum>large:\n",
        "        large = sum\n",
        "        index = i\n",
        "print(large)\n",
        "print(mylist[index])"
      ]
    },
    {
      "cell_type": "code",
      "source": [
        "#task3-list\n",
        "mylist1 = [2,3,6]\n",
        "mylist2 = [3,4,5]\n",
        "mylist = []\n",
        "for i in mylist1:\n",
        "  for j in mylist2:\n",
        "    mylist.append(int(i)*int(j))\n",
        "print(mylist)"
      ],
      "metadata": {
        "colab": {
          "base_uri": "https://localhost:8080/"
        },
        "id": "Po0VhZXokVh_",
        "outputId": "d25c7671-acf0-4a3c-c888-0f55160f6c7e"
      },
      "id": "Po0VhZXokVh_",
      "execution_count": null,
      "outputs": [
        {
          "output_type": "stream",
          "name": "stdout",
          "text": [
            "[6, 8, 10, 9, 12, 15, 18, 24, 30]\n"
          ]
        }
      ]
    },
    {
      "cell_type": "code",
      "execution_count": null,
      "id": "cd7eee6b",
      "metadata": {
        "colab": {
          "base_uri": "https://localhost:8080/"
        },
        "id": "cd7eee6b",
        "outputId": "9176af1f-425e-4c30-c2db-e01be694f855"
      },
      "outputs": [
        {
          "name": "stdout",
          "output_type": "stream",
          "text": [
            "1 4 2 3\n",
            "UB Jumper\n",
            "2 1 4 6 10\n",
            "UB Jumper\n",
            "1 4 2 -1 6\n",
            "Not UB Jumper\n",
            "STOP\n"
          ]
        }
      ],
      "source": [
        "#task4-list\n",
        "while True:\n",
        "    user = input()\n",
        "    if user=='STOP':\n",
        "        break\n",
        "    else:\n",
        "        user = user.split(' ')\n",
        "        newlist = []\n",
        "        for i in user:\n",
        "            newlist.append(int(i))\n",
        "        mylist = []\n",
        "        for i in range(1,len(newlist)):\n",
        "            mylist.append(i)\n",
        "        final = []\n",
        "        for i in range(1,len(newlist)):\n",
        "            value = abs(newlist[i]-newlist[i-1]) \n",
        "            if value not in final and value<len(newlist):\n",
        "                final.append(value)\n",
        "        if len(final)+1==len(newlist):\n",
        "            print('UB Jumper')\n",
        "        else:\n",
        "            print(\"Not UB Jumper\")\n"
      ]
    },
    {
      "cell_type": "code",
      "execution_count": null,
      "id": "3f8aaa70",
      "metadata": {
        "colab": {
          "base_uri": "https://localhost:8080/"
        },
        "id": "3f8aaa70",
        "outputId": "7bf85aa3-2e54-419c-84d0-1f78a4726e0e"
      },
      "outputs": [
        {
          "output_type": "stream",
          "name": "stdout",
          "text": [
            "5 2\n",
            "0 4 5 1 0\n",
            "1\n"
          ]
        }
      ],
      "source": [
        "#task5-list\n",
        "list1 = input()\n",
        "list2 = input()\n",
        "mylist1 = []\n",
        "mylist2 = []\n",
        "mystr1 = ''\n",
        "mystr2 = ''\n",
        "for i in list1:\n",
        "  if i ==' ':\n",
        "    mylist1.append(int(mystr1))\n",
        "    mystr1 = ''\n",
        "  else:\n",
        "    mystr1 += i\n",
        "mylist1.append(int(mystr1))\n",
        "for i in list2:\n",
        "  if i ==' ':\n",
        "    mylist2.append(int(mystr2))\n",
        "    mystr2 = ''\n",
        "  else:\n",
        "    mystr2 += i\n",
        "mylist2.append(int(mystr2))\n",
        "times = mylist1[1]\n",
        "players = []\n",
        "for i in mylist2:\n",
        "    players.append(int(i))\n",
        "available_players = 0\n",
        "for i in players:\n",
        "    if i+times<=5:\n",
        "        available_players += 1\n",
        "print(available_players//3)"
      ]
    },
    {
      "cell_type": "code",
      "execution_count": null,
      "id": "0eb302b7",
      "metadata": {
        "colab": {
          "base_uri": "https://localhost:8080/"
        },
        "id": "0eb302b7",
        "outputId": "1f901385-bf60-4563-bf92-a7ffb29c449f"
      },
      "outputs": [
        {
          "output_type": "stream",
          "name": "stdout",
          "text": [
            "a: 100, b: 100, c: 200, d: 300\n",
            "a: 300, b: 200, d: 400, e: 200\n",
            "{'a': 400, 'b': 300, 'c': 200, 'd': 700, 'e': 200}\n",
            "Values: (200, 300, 400, 700)\n"
          ]
        }
      ],
      "source": [
        "#task1-dict\n",
        "user1 = input()\n",
        "user2 = input()\n",
        "mylist1 = []\n",
        "mylist2 = []\n",
        "mystr1=''\n",
        "mystr2=''\n",
        "mydict1={}\n",
        "mydict2={}\n",
        "final = {}\n",
        "for i in user1:\n",
        "    if i==':' or i==',':\n",
        "        mylist1.append(mystr1)\n",
        "        mystr1 = ''\n",
        "    else:\n",
        "        if i!=' ':\n",
        "            mystr1 += i\n",
        "mylist1.append(mystr1)\n",
        "for i in user2:\n",
        "    if i==':' or i==',':\n",
        "        mylist2.append(mystr2)\n",
        "        mystr2 = ''\n",
        "    else:\n",
        "        if i!=' ':\n",
        "            mystr2 += i\n",
        "mylist2.append(mystr2)\n",
        "\n",
        "for i in range(0,len(mylist1),2):\n",
        "    mydict1[mylist1[i]] = int(mylist1[i+1])\n",
        "for i in range(0,len(mylist2),2):\n",
        "    mydict2[mylist2[i]] = int(mylist2[i+1])\n",
        "values= []\n",
        "for k,v in mydict1.items():\n",
        "    if k in final.keys():\n",
        "        final[k] += v\n",
        "    else:\n",
        "        final[k] = v\n",
        "for k,v in mydict2.items():\n",
        "    if k in final.keys():\n",
        "        final[k] += v\n",
        "    else:\n",
        "        final[k] = v\n",
        "print(final)\n",
        "for v in final.values():\n",
        "    if v not in values:\n",
        "        values.append(v)\n",
        "print('Values:',tuple(sorted(values)))"
      ]
    },
    {
      "cell_type": "code",
      "execution_count": null,
      "id": "44aeacdf",
      "metadata": {
        "colab": {
          "base_uri": "https://localhost:8080/"
        },
        "id": "44aeacdf",
        "outputId": "22fec749-5cf0-419d-d36c-639f4541725a"
      },
      "outputs": [
        {
          "output_type": "stream",
          "name": "stdout",
          "text": [
            "10\n",
            "20\n",
            "20\n",
            "30\n",
            "10\n",
            "50\n",
            "90\n",
            "STOP\n",
            "10 - 2 times\n",
            "20 - 2 times\n",
            "30 - 1 times\n",
            "50 - 1 times\n",
            "90 - 1 times\n"
          ]
        }
      ],
      "source": [
        "#task2-dict\n",
        "mydict = {}\n",
        "while True:\n",
        "    user = input()\n",
        "    if user == 'STOP':\n",
        "        break\n",
        "    else:\n",
        "        if int(user) in mydict.keys():\n",
        "            mydict[int(user)] += 1\n",
        "        else:\n",
        "            mydict[int(user)] = 1\n",
        "for k,v in mydict.items():\n",
        "    print(k,'-',v,'times')"
      ]
    },
    {
      "cell_type": "code",
      "execution_count": null,
      "id": "83efdd86",
      "metadata": {
        "colab": {
          "base_uri": "https://localhost:8080/"
        },
        "id": "83efdd86",
        "outputId": "7c19c048-be06-4e01-f950-5c68be5e6f4e"
      },
      "outputs": [
        {
          "output_type": "stream",
          "name": "stdout",
          "text": [
            "key1 : value1, key2 : value2, key3 : value1\n",
            "{'value1': ['key1', 'key3'], 'value2': ['key2']}\n"
          ]
        }
      ],
      "source": [
        "#task3-dict\n",
        "user = input()\n",
        "mylist = []\n",
        "mystr = ''\n",
        "for i in user:\n",
        "    if i==':' or i==',':\n",
        "        mylist.append(mystr)\n",
        "        mystr =''\n",
        "    else:\n",
        "        if i!=' ':\n",
        "            mystr += i\n",
        "mylist.append(mystr)\n",
        "mydict = {}\n",
        "for i in range(0,len(mylist),2):\n",
        "    if mylist[i+1] in mydict.keys():\n",
        "        mydict[mylist[i+1]].append(mylist[i])\n",
        "    else:\n",
        "        mydict[mylist[i+1]] =[mylist[i]]\n",
        "print(mydict)"
      ]
    },
    {
      "cell_type": "code",
      "execution_count": null,
      "id": "f8c302f2",
      "metadata": {
        "colab": {
          "base_uri": "https://localhost:8080/"
        },
        "id": "f8c302f2",
        "outputId": "23b2d968-fea9-4670-9f86-80ea82fb8d07"
      },
      "outputs": [
        {
          "output_type": "stream",
          "name": "stdout",
          "text": [
            "Hello, World!\n",
            "4433555555666110966677755531111"
          ]
        }
      ],
      "source": [
        "#task4-dict\n",
        "mydict = {\n",
        "    '1':'.,?!:',\n",
        "    '2':'ABC',\n",
        "    '3':'DEF',\n",
        "    '4':'GHI',\n",
        "    '5':'JKL',\n",
        "    '6':'MNO',\n",
        "    '7':'PQRS',\n",
        "    '8':'TUV',\n",
        "    '9':'WXYZ',\n",
        "    '0':' '\n",
        "}\n",
        "\n",
        "user = input()\n",
        "random = ''\n",
        "for i in user:\n",
        "  if 97<=ord(i)<=122:\n",
        "    random += chr(ord(i)-32)\n",
        "  else:\n",
        "    random += i\n",
        "\n",
        "for i in random:\n",
        "    for k,v in mydict.items():\n",
        "        for m in range(len(v)):\n",
        "            if i==v[m]:\n",
        "                print((k)*(m+1),end='')"
      ]
    },
    {
      "cell_type": "code",
      "source": [
        "def swap_case(s):\n",
        "    print(s)\n",
        "    mystr = ''\n",
        "    for i in s:\n",
        "        if 65<=ord(i)<=90:\n",
        "            mystr += chr(ord(i)+32)\n",
        "        elif 97<=ord(i)<=122:\n",
        "            mystr += chr(ord(i)-32)\n",
        "        else:\n",
        "          mystr += i\n",
        "    return mystr\n",
        "\n",
        "if __name__ == '__main__':\n",
        "    s = input()\n",
        "    result = swap_case(s)\n",
        "    print(result)"
      ],
      "metadata": {
        "colab": {
          "base_uri": "https://localhost:8080/"
        },
        "id": "C_4cYKjFLnwc",
        "outputId": "a07a319f-848d-43e5-d0a6-91768f7d765f"
      },
      "id": "C_4cYKjFLnwc",
      "execution_count": null,
      "outputs": [
        {
          "output_type": "stream",
          "name": "stdout",
          "text": [
            "hACKERrANK.COM PRESENTS \"pYTHONIST 2\".\n",
            "hACKERrANK.COM PRESENTS \"pYTHONIST 2\".\n",
            "HackerRank.com presents \"Pythonist 2\".\n"
          ]
        }
      ]
    },
    {
      "cell_type": "code",
      "source": [],
      "metadata": {
        "id": "6Lw0yNS8MJ8l"
      },
      "id": "6Lw0yNS8MJ8l",
      "execution_count": null,
      "outputs": []
    }
  ],
  "metadata": {
    "kernelspec": {
      "display_name": "Python 3 (ipykernel)",
      "language": "python",
      "name": "python3"
    },
    "language_info": {
      "codemirror_mode": {
        "name": "ipython",
        "version": 3
      },
      "file_extension": ".py",
      "mimetype": "text/x-python",
      "name": "python",
      "nbconvert_exporter": "python",
      "pygments_lexer": "ipython3",
      "version": "3.9.12"
    },
    "colab": {
      "provenance": []
    }
  },
  "nbformat": 4,
  "nbformat_minor": 5
}